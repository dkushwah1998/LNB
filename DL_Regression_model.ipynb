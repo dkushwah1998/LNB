{
 "cells": [
  {
   "cell_type": "code",
   "execution_count": 38,
   "id": "30cb495a",
   "metadata": {},
   "outputs": [],
   "source": [
    "import pandas as pd\n",
    "import tensorflow as tf\n",
    "import numpy as np\n",
    "import matplotlib.pyplot as plt\n",
    "import seaborn as sns\n",
    "from sklearn.model_selection import train_test_split"
   ]
  },
  {
   "cell_type": "code",
   "execution_count": 39,
   "id": "a5c6236a",
   "metadata": {},
   "outputs": [
    {
     "data": {
      "text/html": [
       "<div>\n",
       "<style scoped>\n",
       "    .dataframe tbody tr th:only-of-type {\n",
       "        vertical-align: middle;\n",
       "    }\n",
       "\n",
       "    .dataframe tbody tr th {\n",
       "        vertical-align: top;\n",
       "    }\n",
       "\n",
       "    .dataframe thead th {\n",
       "        text-align: right;\n",
       "    }\n",
       "</style>\n",
       "<table border=\"1\" class=\"dataframe\">\n",
       "  <thead>\n",
       "    <tr style=\"text-align: right;\">\n",
       "      <th></th>\n",
       "      <th>Unnamed: 0</th>\n",
       "      <th>TV</th>\n",
       "      <th>Radio</th>\n",
       "      <th>Newspaper</th>\n",
       "      <th>Sales</th>\n",
       "    </tr>\n",
       "  </thead>\n",
       "  <tbody>\n",
       "    <tr>\n",
       "      <th>0</th>\n",
       "      <td>1</td>\n",
       "      <td>230.1</td>\n",
       "      <td>37.8</td>\n",
       "      <td>69.2</td>\n",
       "      <td>22.1</td>\n",
       "    </tr>\n",
       "    <tr>\n",
       "      <th>1</th>\n",
       "      <td>2</td>\n",
       "      <td>44.5</td>\n",
       "      <td>39.3</td>\n",
       "      <td>45.1</td>\n",
       "      <td>10.4</td>\n",
       "    </tr>\n",
       "    <tr>\n",
       "      <th>2</th>\n",
       "      <td>3</td>\n",
       "      <td>17.2</td>\n",
       "      <td>45.9</td>\n",
       "      <td>69.3</td>\n",
       "      <td>9.3</td>\n",
       "    </tr>\n",
       "    <tr>\n",
       "      <th>3</th>\n",
       "      <td>4</td>\n",
       "      <td>151.5</td>\n",
       "      <td>41.3</td>\n",
       "      <td>58.5</td>\n",
       "      <td>18.5</td>\n",
       "    </tr>\n",
       "    <tr>\n",
       "      <th>4</th>\n",
       "      <td>5</td>\n",
       "      <td>180.8</td>\n",
       "      <td>10.8</td>\n",
       "      <td>58.4</td>\n",
       "      <td>12.9</td>\n",
       "    </tr>\n",
       "  </tbody>\n",
       "</table>\n",
       "</div>"
      ],
      "text/plain": [
       "   Unnamed: 0     TV  Radio  Newspaper  Sales\n",
       "0           1  230.1   37.8       69.2   22.1\n",
       "1           2   44.5   39.3       45.1   10.4\n",
       "2           3   17.2   45.9       69.3    9.3\n",
       "3           4  151.5   41.3       58.5   18.5\n",
       "4           5  180.8   10.8       58.4   12.9"
      ]
     },
     "execution_count": 39,
     "metadata": {},
     "output_type": "execute_result"
    }
   ],
   "source": [
    "df = pd.read_csv(r\"C:\\Users\\HP\\Desktop\\Data_LB\\Deep Learning\\Data\\Advertising.csv\")\n",
    "df.head()"
   ]
  },
  {
   "cell_type": "code",
   "execution_count": 40,
   "id": "2d860b15",
   "metadata": {},
   "outputs": [],
   "source": [
    "df.drop(\"Unnamed: 0\",axis=1, inplace= True)"
   ]
  },
  {
   "cell_type": "code",
   "execution_count": 41,
   "id": "521da16b",
   "metadata": {},
   "outputs": [
    {
     "data": {
      "text/html": [
       "<div>\n",
       "<style scoped>\n",
       "    .dataframe tbody tr th:only-of-type {\n",
       "        vertical-align: middle;\n",
       "    }\n",
       "\n",
       "    .dataframe tbody tr th {\n",
       "        vertical-align: top;\n",
       "    }\n",
       "\n",
       "    .dataframe thead th {\n",
       "        text-align: right;\n",
       "    }\n",
       "</style>\n",
       "<table border=\"1\" class=\"dataframe\">\n",
       "  <thead>\n",
       "    <tr style=\"text-align: right;\">\n",
       "      <th></th>\n",
       "      <th>TV</th>\n",
       "      <th>Radio</th>\n",
       "      <th>Newspaper</th>\n",
       "      <th>Sales</th>\n",
       "    </tr>\n",
       "  </thead>\n",
       "  <tbody>\n",
       "    <tr>\n",
       "      <th>0</th>\n",
       "      <td>230.1</td>\n",
       "      <td>37.8</td>\n",
       "      <td>69.2</td>\n",
       "      <td>22.1</td>\n",
       "    </tr>\n",
       "    <tr>\n",
       "      <th>1</th>\n",
       "      <td>44.5</td>\n",
       "      <td>39.3</td>\n",
       "      <td>45.1</td>\n",
       "      <td>10.4</td>\n",
       "    </tr>\n",
       "    <tr>\n",
       "      <th>2</th>\n",
       "      <td>17.2</td>\n",
       "      <td>45.9</td>\n",
       "      <td>69.3</td>\n",
       "      <td>9.3</td>\n",
       "    </tr>\n",
       "    <tr>\n",
       "      <th>3</th>\n",
       "      <td>151.5</td>\n",
       "      <td>41.3</td>\n",
       "      <td>58.5</td>\n",
       "      <td>18.5</td>\n",
       "    </tr>\n",
       "    <tr>\n",
       "      <th>4</th>\n",
       "      <td>180.8</td>\n",
       "      <td>10.8</td>\n",
       "      <td>58.4</td>\n",
       "      <td>12.9</td>\n",
       "    </tr>\n",
       "  </tbody>\n",
       "</table>\n",
       "</div>"
      ],
      "text/plain": [
       "      TV  Radio  Newspaper  Sales\n",
       "0  230.1   37.8       69.2   22.1\n",
       "1   44.5   39.3       45.1   10.4\n",
       "2   17.2   45.9       69.3    9.3\n",
       "3  151.5   41.3       58.5   18.5\n",
       "4  180.8   10.8       58.4   12.9"
      ]
     },
     "execution_count": 41,
     "metadata": {},
     "output_type": "execute_result"
    }
   ],
   "source": [
    "df.head()"
   ]
  },
  {
   "cell_type": "code",
   "execution_count": 42,
   "id": "9b19db1e",
   "metadata": {},
   "outputs": [
    {
     "data": {
      "text/plain": [
       "TV           0\n",
       "Radio        0\n",
       "Newspaper    0\n",
       "Sales        0\n",
       "dtype: int64"
      ]
     },
     "execution_count": 42,
     "metadata": {},
     "output_type": "execute_result"
    }
   ],
   "source": [
    "#Missing values\n",
    "df.isnull().sum()"
   ]
  },
  {
   "cell_type": "code",
   "execution_count": 43,
   "id": "5269f545",
   "metadata": {},
   "outputs": [
    {
     "name": "stdout",
     "output_type": "stream",
     "text": [
      "<class 'pandas.core.frame.DataFrame'>\n",
      "RangeIndex: 200 entries, 0 to 199\n",
      "Data columns (total 4 columns):\n",
      " #   Column     Non-Null Count  Dtype  \n",
      "---  ------     --------------  -----  \n",
      " 0   TV         200 non-null    float64\n",
      " 1   Radio      200 non-null    float64\n",
      " 2   Newspaper  200 non-null    float64\n",
      " 3   Sales      200 non-null    float64\n",
      "dtypes: float64(4)\n",
      "memory usage: 6.4 KB\n"
     ]
    }
   ],
   "source": [
    "df.info()"
   ]
  },
  {
   "cell_type": "code",
   "execution_count": 44,
   "id": "b2280069",
   "metadata": {},
   "outputs": [
    {
     "data": {
      "text/plain": [
       "0"
      ]
     },
     "execution_count": 44,
     "metadata": {},
     "output_type": "execute_result"
    }
   ],
   "source": [
    "#duplicates\n",
    "df.duplicated().sum()"
   ]
  },
  {
   "cell_type": "code",
   "execution_count": 45,
   "id": "eb2f4c18",
   "metadata": {},
   "outputs": [],
   "source": [
    "x = df.drop('Sales',axis=1)\n",
    "y = df['Sales']"
   ]
  },
  {
   "cell_type": "code",
   "execution_count": 46,
   "id": "af168e86",
   "metadata": {},
   "outputs": [],
   "source": [
    "#train test split\n",
    "x_train,x_test, y_train,y_test = train_test_split(x,y,test_size=0.2,random_state = 20)\n"
   ]
  },
  {
   "cell_type": "code",
   "execution_count": 47,
   "id": "06786af6",
   "metadata": {},
   "outputs": [
    {
     "name": "stdout",
     "output_type": "stream",
     "text": [
      "The shape of x_train: (160, 3)\n",
      "The shape of x_test: (40, 3)\n",
      "The shape of y_train: (160,)\n",
      "The shape of y_test: (40,)\n"
     ]
    }
   ],
   "source": [
    "print(f\"The shape of x_train: {x_train.shape}\")\n",
    "print(f\"The shape of x_test: {x_test.shape}\")\n",
    "print(f\"The shape of y_train: {y_train.shape}\")\n",
    "print(f\"The shape of y_test: {y_test.shape}\")"
   ]
  },
  {
   "cell_type": "code",
   "execution_count": 48,
   "id": "d816251c",
   "metadata": {},
   "outputs": [
    {
     "name": "stderr",
     "output_type": "stream",
     "text": [
      "C:\\ProgramData\\Anaconda3\\lib\\site-packages\\seaborn\\distributions.py:2619: FutureWarning: `distplot` is a deprecated function and will be removed in a future version. Please adapt your code to use either `displot` (a figure-level function with similar flexibility) or `histplot` (an axes-level function for histograms).\n",
      "  warnings.warn(msg, FutureWarning)\n"
     ]
    },
    {
     "data": {
      "image/png": "[encoded data removed]",
      "text/plain": [
       "<Figure size 640x480 with 1 Axes>"
      ]
     },
     "metadata": {},
     "output_type": "display_data"
    },
    {
     "name": "stderr",
     "output_type": "stream",
     "text": [
      "C:\\ProgramData\\Anaconda3\\lib\\site-packages\\seaborn\\distributions.py:2619: FutureWarning: `distplot` is a deprecated function and will be removed in a future version. Please adapt your code to use either `displot` (a figure-level function with similar flexibility) or `histplot` (an axes-level function for histograms).\n",
      "  warnings.warn(msg, FutureWarning)\n"
     ]
    },
    {
     "data": {
      "image/png": "[encoded data removed]",
      "text/plain": [
       "<Figure size 640x480 with 1 Axes>"
      ]
     },
     "metadata": {},
     "output_type": "display_data"
    },
    {
     "name": "stderr",
     "output_type": "stream",
     "text": [
      "C:\\ProgramData\\Anaconda3\\lib\\site-packages\\seaborn\\distributions.py:2619: FutureWarning: `distplot` is a deprecated function and will be removed in a future version. Please adapt your code to use either `displot` (a figure-level function with similar flexibility) or `histplot` (an axes-level function for histograms).\n",
      "  warnings.warn(msg, FutureWarning)\n"
     ]
    },
    {
     "data": {
      "image/png": "[encoded data removed]",
      "text/plain": [
       "<Figure size 640x480 with 1 Axes>"
      ]
     },
     "metadata": {},
     "output_type": "display_data"
    }
   ],
   "source": [
    "for col in x_train.columns:\n",
    "    \n",
    "    sns.distplot(df[col], kde = True)\n",
    "    plt.title(f'Distribution for {col}')\n",
    "    plt.show()"
   ]
  },
  {
   "cell_type": "markdown",
   "id": "421ff42b",
   "metadata": {},
   "source": [
    "None of them are following normal distrubtions"
   ]
  },
  {
   "cell_type": "code",
   "execution_count": 49,
   "id": "956798e8",
   "metadata": {},
   "outputs": [
    {
     "name": "stderr",
     "output_type": "stream",
     "text": [
      "C:\\ProgramData\\Anaconda3\\lib\\site-packages\\seaborn\\_decorators.py:36: FutureWarning: Pass the following variable as a keyword arg: x. From version 0.12, the only valid positional argument will be `data`, and passing other arguments without an explicit keyword will result in an error or misinterpretation.\n",
      "  warnings.warn(\n"
     ]
    },
    {
     "data": {
      "image/png": "[encoded data removed]",
      "text/plain": [
       "<Figure size 640x480 with 1 Axes>"
      ]
     },
     "metadata": {},
     "output_type": "display_data"
    },
    {
     "name": "stderr",
     "output_type": "stream",
     "text": [
      "C:\\ProgramData\\Anaconda3\\lib\\site-packages\\seaborn\\_decorators.py:36: FutureWarning: Pass the following variable as a keyword arg: x. From version 0.12, the only valid positional argument will be `data`, and passing other arguments without an explicit keyword will result in an error or misinterpretation.\n",
      "  warnings.warn(\n"
     ]
    },
    {
     "data": {
      "image/png": "[encoded data removed]",
      "text/plain": [
       "<Figure size 640x480 with 1 Axes>"
      ]
     },
     "metadata": {},
     "output_type": "display_data"
    },
    {
     "name": "stderr",
     "output_type": "stream",
     "text": [
      "C:\\ProgramData\\Anaconda3\\lib\\site-packages\\seaborn\\_decorators.py:36: FutureWarning: Pass the following variable as a keyword arg: x. From version 0.12, the only valid positional argument will be `data`, and passing other arguments without an explicit keyword will result in an error or misinterpretation.\n",
      "  warnings.warn(\n"
     ]
    },
    {
     "data": {
      "image/png": "[encoded data removed]",
      "text/plain": [
       "<Figure size 640x480 with 1 Axes>"
      ]
     },
     "metadata": {},
     "output_type": "display_data"
    }
   ],
   "source": [
    "#checking for outliers\n",
    "for col in x_train.columns:\n",
    "    sns.boxplot(x_train[col],orient=\"h\")\n",
    "    plt.title(f'{col}')\n",
    "    plt.show()"
   ]
  },
  {
   "cell_type": "code",
   "execution_count": 50,
   "id": "eecae09a",
   "metadata": {},
   "outputs": [
    {
     "data": {
      "text/plain": [
       "33.0"
      ]
     },
     "execution_count": 50,
     "metadata": {},
     "output_type": "execute_result"
    }
   ],
   "source": [
    "#removing outliers from newspaper column\n",
    "q1 = x_train['Newspaper'].quantile(0.25)\n",
    "q3 = x_train['Newspaper'].quantile(0.75)\n",
    "iqr = q3-q1\n",
    "iqr"
   ]
  },
  {
   "cell_type": "code",
   "execution_count": 51,
   "id": "431643f3",
   "metadata": {},
   "outputs": [],
   "source": [
    "uw = q3+1.5*iqr     #upper whisker\n",
    "lw = q1-1.5*iqr   #lower whisker"
   ]
  },
  {
   "cell_type": "code",
   "execution_count": 52,
   "id": "d6eabe0a",
   "metadata": {},
   "outputs": [
    {
     "data": {
      "text/plain": [
       "(95.25, -36.75)"
      ]
     },
     "execution_count": 52,
     "metadata": {},
     "output_type": "execute_result"
    }
   ],
   "source": [
    "uw, lw"
   ]
  },
  {
   "cell_type": "code",
   "execution_count": 53,
   "id": "2c837421",
   "metadata": {},
   "outputs": [],
   "source": [
    "train_out_index = x_train[(x_train['Newspaper'] >uw) |(x_train['Newspaper']<lw)].index\n",
    "test_out_index = x_test[(x_test['Newspaper']>uw) |(x_test['Newspaper']<lw)].index"
   ]
  },
  {
   "cell_type": "code",
   "execution_count": 54,
   "id": "b1a6ec3e",
   "metadata": {},
   "outputs": [
    {
     "data": {
      "text/plain": [
       "(Int64Index([101, 16], dtype='int64'), Int64Index([], dtype='int64'))"
      ]
     },
     "execution_count": 54,
     "metadata": {},
     "output_type": "execute_result"
    }
   ],
   "source": [
    "train_out_index,test_out_index\n"
   ]
  },
  {
   "cell_type": "code",
   "execution_count": 55,
   "id": "70bb5d65",
   "metadata": {},
   "outputs": [
    {
     "ename": "KeyError",
     "evalue": "'[(101, 16)] not found in axis'",
     "output_type": "error",
     "traceback": [
      "\u001b[1;31m---------------------------------------------------------------------------\u001b[0m",
      "\u001b[1;31mKeyError\u001b[0m                                  Traceback (most recent call last)",
      "\u001b[1;32m~\\AppData\\Local\\Temp\\ipykernel_5200\\3273713510.py\u001b[0m in \u001b[0;36m<module>\u001b[1;34m\u001b[0m\n\u001b[1;32m----> 1\u001b[1;33m \u001b[0mx_train\u001b[0m\u001b[1;33m.\u001b[0m\u001b[0mdrop\u001b[0m\u001b[1;33m(\u001b[0m\u001b[0mindex\u001b[0m\u001b[1;33m=\u001b[0m\u001b[1;33m[\u001b[0m\u001b[0mtrain_out_index\u001b[0m\u001b[1;33m]\u001b[0m\u001b[1;33m,\u001b[0m\u001b[0minplace\u001b[0m \u001b[1;33m=\u001b[0m \u001b[1;32mTrue\u001b[0m\u001b[1;33m)\u001b[0m\u001b[1;33m\u001b[0m\u001b[1;33m\u001b[0m\u001b[0m\n\u001b[0m\u001b[0;32m      2\u001b[0m \u001b[0mx_test\u001b[0m\u001b[1;33m.\u001b[0m\u001b[0mdrop\u001b[0m\u001b[1;33m(\u001b[0m\u001b[0mindex\u001b[0m\u001b[1;33m=\u001b[0m\u001b[1;33m[\u001b[0m\u001b[0mtest_out_index\u001b[0m\u001b[1;33m]\u001b[0m\u001b[1;33m,\u001b[0m\u001b[0minplace\u001b[0m \u001b[1;33m=\u001b[0m \u001b[1;32mTrue\u001b[0m\u001b[1;33m)\u001b[0m\u001b[1;33m\u001b[0m\u001b[1;33m\u001b[0m\u001b[0m\n",
      "\u001b[1;32mC:\\ProgramData\\Anaconda3\\lib\\site-packages\\pandas\\util\\_decorators.py\u001b[0m in \u001b[0;36mwrapper\u001b[1;34m(*args, **kwargs)\u001b[0m\n\u001b[0;32m    309\u001b[0m                     \u001b[0mstacklevel\u001b[0m\u001b[1;33m=\u001b[0m\u001b[0mstacklevel\u001b[0m\u001b[1;33m,\u001b[0m\u001b[1;33m\u001b[0m\u001b[1;33m\u001b[0m\u001b[0m\n\u001b[0;32m    310\u001b[0m                 )\n\u001b[1;32m--> 311\u001b[1;33m             \u001b[1;32mreturn\u001b[0m \u001b[0mfunc\u001b[0m\u001b[1;33m(\u001b[0m\u001b[1;33m*\u001b[0m\u001b[0margs\u001b[0m\u001b[1;33m,\u001b[0m \u001b[1;33m**\u001b[0m\u001b[0mkwargs\u001b[0m\u001b[1;33m)\u001b[0m\u001b[1;33m\u001b[0m\u001b[1;33m\u001b[0m\u001b[0m\n\u001b[0m\u001b[0;32m    312\u001b[0m \u001b[1;33m\u001b[0m\u001b[0m\n\u001b[0;32m    313\u001b[0m         \u001b[1;32mreturn\u001b[0m \u001b[0mwrapper\u001b[0m\u001b[1;33m\u001b[0m\u001b[1;33m\u001b[0m\u001b[0m\n",
      "\u001b[1;32mC:\\ProgramData\\Anaconda3\\lib\\site-packages\\pandas\\core\\frame.py\u001b[0m in \u001b[0;36mdrop\u001b[1;34m(self, labels, axis, index, columns, level, inplace, errors)\u001b[0m\n\u001b[0;32m   4955\u001b[0m                 \u001b[0mweight\u001b[0m  \u001b[1;36m1.0\u001b[0m     \u001b[1;36m0.8\u001b[0m\u001b[1;33m\u001b[0m\u001b[1;33m\u001b[0m\u001b[0m\n\u001b[0;32m   4956\u001b[0m         \"\"\"\n\u001b[1;32m-> 4957\u001b[1;33m         return super().drop(\n\u001b[0m\u001b[0;32m   4958\u001b[0m             \u001b[0mlabels\u001b[0m\u001b[1;33m=\u001b[0m\u001b[0mlabels\u001b[0m\u001b[1;33m,\u001b[0m\u001b[1;33m\u001b[0m\u001b[1;33m\u001b[0m\u001b[0m\n\u001b[0;32m   4959\u001b[0m             \u001b[0maxis\u001b[0m\u001b[1;33m=\u001b[0m\u001b[0maxis\u001b[0m\u001b[1;33m,\u001b[0m\u001b[1;33m\u001b[0m\u001b[1;33m\u001b[0m\u001b[0m\n",
      "\u001b[1;32mC:\\ProgramData\\Anaconda3\\lib\\site-packages\\pandas\\core\\generic.py\u001b[0m in \u001b[0;36mdrop\u001b[1;34m(self, labels, axis, index, columns, level, inplace, errors)\u001b[0m\n\u001b[0;32m   4265\u001b[0m         \u001b[1;32mfor\u001b[0m \u001b[0maxis\u001b[0m\u001b[1;33m,\u001b[0m \u001b[0mlabels\u001b[0m \u001b[1;32min\u001b[0m \u001b[0maxes\u001b[0m\u001b[1;33m.\u001b[0m\u001b[0mitems\u001b[0m\u001b[1;33m(\u001b[0m\u001b[1;33m)\u001b[0m\u001b[1;33m:\u001b[0m\u001b[1;33m\u001b[0m\u001b[1;33m\u001b[0m\u001b[0m\n\u001b[0;32m   4266\u001b[0m             \u001b[1;32mif\u001b[0m \u001b[0mlabels\u001b[0m \u001b[1;32mis\u001b[0m \u001b[1;32mnot\u001b[0m \u001b[1;32mNone\u001b[0m\u001b[1;33m:\u001b[0m\u001b[1;33m\u001b[0m\u001b[1;33m\u001b[0m\u001b[0m\n\u001b[1;32m-> 4267\u001b[1;33m                 \u001b[0mobj\u001b[0m \u001b[1;33m=\u001b[0m \u001b[0mobj\u001b[0m\u001b[1;33m.\u001b[0m\u001b[0m_drop_axis\u001b[0m\u001b[1;33m(\u001b[0m\u001b[0mlabels\u001b[0m\u001b[1;33m,\u001b[0m \u001b[0maxis\u001b[0m\u001b[1;33m,\u001b[0m \u001b[0mlevel\u001b[0m\u001b[1;33m=\u001b[0m\u001b[0mlevel\u001b[0m\u001b[1;33m,\u001b[0m \u001b[0merrors\u001b[0m\u001b[1;33m=\u001b[0m\u001b[0merrors\u001b[0m\u001b[1;33m)\u001b[0m\u001b[1;33m\u001b[0m\u001b[1;33m\u001b[0m\u001b[0m\n\u001b[0m\u001b[0;32m   4268\u001b[0m \u001b[1;33m\u001b[0m\u001b[0m\n\u001b[0;32m   4269\u001b[0m         \u001b[1;32mif\u001b[0m \u001b[0minplace\u001b[0m\u001b[1;33m:\u001b[0m\u001b[1;33m\u001b[0m\u001b[1;33m\u001b[0m\u001b[0m\n",
      "\u001b[1;32mC:\\ProgramData\\Anaconda3\\lib\\site-packages\\pandas\\core\\generic.py\u001b[0m in \u001b[0;36m_drop_axis\u001b[1;34m(self, labels, axis, level, errors, consolidate, only_slice)\u001b[0m\n\u001b[0;32m   4309\u001b[0m                 \u001b[0mnew_axis\u001b[0m \u001b[1;33m=\u001b[0m \u001b[0maxis\u001b[0m\u001b[1;33m.\u001b[0m\u001b[0mdrop\u001b[0m\u001b[1;33m(\u001b[0m\u001b[0mlabels\u001b[0m\u001b[1;33m,\u001b[0m \u001b[0mlevel\u001b[0m\u001b[1;33m=\u001b[0m\u001b[0mlevel\u001b[0m\u001b[1;33m,\u001b[0m \u001b[0merrors\u001b[0m\u001b[1;33m=\u001b[0m\u001b[0merrors\u001b[0m\u001b[1;33m)\u001b[0m\u001b[1;33m\u001b[0m\u001b[1;33m\u001b[0m\u001b[0m\n\u001b[0;32m   4310\u001b[0m             \u001b[1;32melse\u001b[0m\u001b[1;33m:\u001b[0m\u001b[1;33m\u001b[0m\u001b[1;33m\u001b[0m\u001b[0m\n\u001b[1;32m-> 4311\u001b[1;33m                 \u001b[0mnew_axis\u001b[0m \u001b[1;33m=\u001b[0m \u001b[0maxis\u001b[0m\u001b[1;33m.\u001b[0m\u001b[0mdrop\u001b[0m\u001b[1;33m(\u001b[0m\u001b[0mlabels\u001b[0m\u001b[1;33m,\u001b[0m \u001b[0merrors\u001b[0m\u001b[1;33m=\u001b[0m\u001b[0merrors\u001b[0m\u001b[1;33m)\u001b[0m\u001b[1;33m\u001b[0m\u001b[1;33m\u001b[0m\u001b[0m\n\u001b[0m\u001b[0;32m   4312\u001b[0m             \u001b[0mindexer\u001b[0m \u001b[1;33m=\u001b[0m \u001b[0maxis\u001b[0m\u001b[1;33m.\u001b[0m\u001b[0mget_indexer\u001b[0m\u001b[1;33m(\u001b[0m\u001b[0mnew_axis\u001b[0m\u001b[1;33m)\u001b[0m\u001b[1;33m\u001b[0m\u001b[1;33m\u001b[0m\u001b[0m\n\u001b[0;32m   4313\u001b[0m \u001b[1;33m\u001b[0m\u001b[0m\n",
      "\u001b[1;32mC:\\ProgramData\\Anaconda3\\lib\\site-packages\\pandas\\core\\indexes\\base.py\u001b[0m in \u001b[0;36mdrop\u001b[1;34m(self, labels, errors)\u001b[0m\n\u001b[0;32m   6659\u001b[0m         \u001b[1;32mif\u001b[0m \u001b[0mmask\u001b[0m\u001b[1;33m.\u001b[0m\u001b[0many\u001b[0m\u001b[1;33m(\u001b[0m\u001b[1;33m)\u001b[0m\u001b[1;33m:\u001b[0m\u001b[1;33m\u001b[0m\u001b[1;33m\u001b[0m\u001b[0m\n\u001b[0;32m   6660\u001b[0m             \u001b[1;32mif\u001b[0m \u001b[0merrors\u001b[0m \u001b[1;33m!=\u001b[0m \u001b[1;34m\"ignore\"\u001b[0m\u001b[1;33m:\u001b[0m\u001b[1;33m\u001b[0m\u001b[1;33m\u001b[0m\u001b[0m\n\u001b[1;32m-> 6661\u001b[1;33m                 \u001b[1;32mraise\u001b[0m \u001b[0mKeyError\u001b[0m\u001b[1;33m(\u001b[0m\u001b[1;34mf\"{list(labels[mask])} not found in axis\"\u001b[0m\u001b[1;33m)\u001b[0m\u001b[1;33m\u001b[0m\u001b[1;33m\u001b[0m\u001b[0m\n\u001b[0m\u001b[0;32m   6662\u001b[0m             \u001b[0mindexer\u001b[0m \u001b[1;33m=\u001b[0m \u001b[0mindexer\u001b[0m\u001b[1;33m[\u001b[0m\u001b[1;33m~\u001b[0m\u001b[0mmask\u001b[0m\u001b[1;33m]\u001b[0m\u001b[1;33m\u001b[0m\u001b[1;33m\u001b[0m\u001b[0m\n\u001b[0;32m   6663\u001b[0m         \u001b[1;32mreturn\u001b[0m \u001b[0mself\u001b[0m\u001b[1;33m.\u001b[0m\u001b[0mdelete\u001b[0m\u001b[1;33m(\u001b[0m\u001b[0mindexer\u001b[0m\u001b[1;33m)\u001b[0m\u001b[1;33m\u001b[0m\u001b[1;33m\u001b[0m\u001b[0m\n",
      "\u001b[1;31mKeyError\u001b[0m: '[(101, 16)] not found in axis'"
     ]
    }
   ],
   "source": [
    "x_train.drop(index=[train_out_index],inplace = True)\n",
    "x_test.drop(index=[test_out_index],inplace = True)"
   ]
  },
  {
   "cell_type": "code",
   "execution_count": 56,
   "id": "4aba2ad7",
   "metadata": {},
   "outputs": [
    {
     "ename": "KeyError",
     "evalue": "'[(101, 16)] not found in axis'",
     "output_type": "error",
     "traceback": [
      "\u001b[1;31m---------------------------------------------------------------------------\u001b[0m",
      "\u001b[1;31mKeyError\u001b[0m                                  Traceback (most recent call last)",
      "\u001b[1;32m~\\AppData\\Local\\Temp\\ipykernel_5200\\1181193282.py\u001b[0m in \u001b[0;36m<module>\u001b[1;34m\u001b[0m\n\u001b[1;32m----> 1\u001b[1;33m \u001b[0my_train\u001b[0m\u001b[1;33m.\u001b[0m\u001b[0mdrop\u001b[0m\u001b[1;33m(\u001b[0m\u001b[0mindex\u001b[0m\u001b[1;33m=\u001b[0m\u001b[1;33m[\u001b[0m\u001b[0mtrain_out_index\u001b[0m\u001b[1;33m]\u001b[0m\u001b[1;33m,\u001b[0m\u001b[0minplace\u001b[0m \u001b[1;33m=\u001b[0m \u001b[1;32mTrue\u001b[0m\u001b[1;33m)\u001b[0m\u001b[1;33m\u001b[0m\u001b[1;33m\u001b[0m\u001b[0m\n\u001b[0m\u001b[0;32m      2\u001b[0m \u001b[0my_test\u001b[0m\u001b[1;33m.\u001b[0m\u001b[0mdrop\u001b[0m\u001b[1;33m(\u001b[0m\u001b[0mindex\u001b[0m\u001b[1;33m=\u001b[0m\u001b[1;33m[\u001b[0m\u001b[0mtest_out_index\u001b[0m\u001b[1;33m]\u001b[0m\u001b[1;33m,\u001b[0m\u001b[0minplace\u001b[0m \u001b[1;33m=\u001b[0m \u001b[1;32mTrue\u001b[0m\u001b[1;33m)\u001b[0m\u001b[1;33m\u001b[0m\u001b[1;33m\u001b[0m\u001b[0m\n",
      "\u001b[1;32mC:\\ProgramData\\Anaconda3\\lib\\site-packages\\pandas\\util\\_decorators.py\u001b[0m in \u001b[0;36mwrapper\u001b[1;34m(*args, **kwargs)\u001b[0m\n\u001b[0;32m    309\u001b[0m                     \u001b[0mstacklevel\u001b[0m\u001b[1;33m=\u001b[0m\u001b[0mstacklevel\u001b[0m\u001b[1;33m,\u001b[0m\u001b[1;33m\u001b[0m\u001b[1;33m\u001b[0m\u001b[0m\n\u001b[0;32m    310\u001b[0m                 )\n\u001b[1;32m--> 311\u001b[1;33m             \u001b[1;32mreturn\u001b[0m \u001b[0mfunc\u001b[0m\u001b[1;33m(\u001b[0m\u001b[1;33m*\u001b[0m\u001b[0margs\u001b[0m\u001b[1;33m,\u001b[0m \u001b[1;33m**\u001b[0m\u001b[0mkwargs\u001b[0m\u001b[1;33m)\u001b[0m\u001b[1;33m\u001b[0m\u001b[1;33m\u001b[0m\u001b[0m\n\u001b[0m\u001b[0;32m    312\u001b[0m \u001b[1;33m\u001b[0m\u001b[0m\n\u001b[0;32m    313\u001b[0m         \u001b[1;32mreturn\u001b[0m \u001b[0mwrapper\u001b[0m\u001b[1;33m\u001b[0m\u001b[1;33m\u001b[0m\u001b[0m\n",
      "\u001b[1;32mC:\\ProgramData\\Anaconda3\\lib\\site-packages\\pandas\\core\\series.py\u001b[0m in \u001b[0;36mdrop\u001b[1;34m(self, labels, axis, index, columns, level, inplace, errors)\u001b[0m\n\u001b[0;32m   4769\u001b[0m         \u001b[0mdtype\u001b[0m\u001b[1;33m:\u001b[0m \u001b[0mfloat64\u001b[0m\u001b[1;33m\u001b[0m\u001b[1;33m\u001b[0m\u001b[0m\n\u001b[0;32m   4770\u001b[0m         \"\"\"\n\u001b[1;32m-> 4771\u001b[1;33m         return super().drop(\n\u001b[0m\u001b[0;32m   4772\u001b[0m             \u001b[0mlabels\u001b[0m\u001b[1;33m=\u001b[0m\u001b[0mlabels\u001b[0m\u001b[1;33m,\u001b[0m\u001b[1;33m\u001b[0m\u001b[1;33m\u001b[0m\u001b[0m\n\u001b[0;32m   4773\u001b[0m             \u001b[0maxis\u001b[0m\u001b[1;33m=\u001b[0m\u001b[0maxis\u001b[0m\u001b[1;33m,\u001b[0m\u001b[1;33m\u001b[0m\u001b[1;33m\u001b[0m\u001b[0m\n",
      "\u001b[1;32mC:\\ProgramData\\Anaconda3\\lib\\site-packages\\pandas\\core\\generic.py\u001b[0m in \u001b[0;36mdrop\u001b[1;34m(self, labels, axis, index, columns, level, inplace, errors)\u001b[0m\n\u001b[0;32m   4265\u001b[0m         \u001b[1;32mfor\u001b[0m \u001b[0maxis\u001b[0m\u001b[1;33m,\u001b[0m \u001b[0mlabels\u001b[0m \u001b[1;32min\u001b[0m \u001b[0maxes\u001b[0m\u001b[1;33m.\u001b[0m\u001b[0mitems\u001b[0m\u001b[1;33m(\u001b[0m\u001b[1;33m)\u001b[0m\u001b[1;33m:\u001b[0m\u001b[1;33m\u001b[0m\u001b[1;33m\u001b[0m\u001b[0m\n\u001b[0;32m   4266\u001b[0m             \u001b[1;32mif\u001b[0m \u001b[0mlabels\u001b[0m \u001b[1;32mis\u001b[0m \u001b[1;32mnot\u001b[0m \u001b[1;32mNone\u001b[0m\u001b[1;33m:\u001b[0m\u001b[1;33m\u001b[0m\u001b[1;33m\u001b[0m\u001b[0m\n\u001b[1;32m-> 4267\u001b[1;33m                 \u001b[0mobj\u001b[0m \u001b[1;33m=\u001b[0m \u001b[0mobj\u001b[0m\u001b[1;33m.\u001b[0m\u001b[0m_drop_axis\u001b[0m\u001b[1;33m(\u001b[0m\u001b[0mlabels\u001b[0m\u001b[1;33m,\u001b[0m \u001b[0maxis\u001b[0m\u001b[1;33m,\u001b[0m \u001b[0mlevel\u001b[0m\u001b[1;33m=\u001b[0m\u001b[0mlevel\u001b[0m\u001b[1;33m,\u001b[0m \u001b[0merrors\u001b[0m\u001b[1;33m=\u001b[0m\u001b[0merrors\u001b[0m\u001b[1;33m)\u001b[0m\u001b[1;33m\u001b[0m\u001b[1;33m\u001b[0m\u001b[0m\n\u001b[0m\u001b[0;32m   4268\u001b[0m \u001b[1;33m\u001b[0m\u001b[0m\n\u001b[0;32m   4269\u001b[0m         \u001b[1;32mif\u001b[0m \u001b[0minplace\u001b[0m\u001b[1;33m:\u001b[0m\u001b[1;33m\u001b[0m\u001b[1;33m\u001b[0m\u001b[0m\n",
      "\u001b[1;32mC:\\ProgramData\\Anaconda3\\lib\\site-packages\\pandas\\core\\generic.py\u001b[0m in \u001b[0;36m_drop_axis\u001b[1;34m(self, labels, axis, level, errors, consolidate, only_slice)\u001b[0m\n\u001b[0;32m   4309\u001b[0m                 \u001b[0mnew_axis\u001b[0m \u001b[1;33m=\u001b[0m \u001b[0maxis\u001b[0m\u001b[1;33m.\u001b[0m\u001b[0mdrop\u001b[0m\u001b[1;33m(\u001b[0m\u001b[0mlabels\u001b[0m\u001b[1;33m,\u001b[0m \u001b[0mlevel\u001b[0m\u001b[1;33m=\u001b[0m\u001b[0mlevel\u001b[0m\u001b[1;33m,\u001b[0m \u001b[0merrors\u001b[0m\u001b[1;33m=\u001b[0m\u001b[0merrors\u001b[0m\u001b[1;33m)\u001b[0m\u001b[1;33m\u001b[0m\u001b[1;33m\u001b[0m\u001b[0m\n\u001b[0;32m   4310\u001b[0m             \u001b[1;32melse\u001b[0m\u001b[1;33m:\u001b[0m\u001b[1;33m\u001b[0m\u001b[1;33m\u001b[0m\u001b[0m\n\u001b[1;32m-> 4311\u001b[1;33m                 \u001b[0mnew_axis\u001b[0m \u001b[1;33m=\u001b[0m \u001b[0maxis\u001b[0m\u001b[1;33m.\u001b[0m\u001b[0mdrop\u001b[0m\u001b[1;33m(\u001b[0m\u001b[0mlabels\u001b[0m\u001b[1;33m,\u001b[0m \u001b[0merrors\u001b[0m\u001b[1;33m=\u001b[0m\u001b[0merrors\u001b[0m\u001b[1;33m)\u001b[0m\u001b[1;33m\u001b[0m\u001b[1;33m\u001b[0m\u001b[0m\n\u001b[0m\u001b[0;32m   4312\u001b[0m             \u001b[0mindexer\u001b[0m \u001b[1;33m=\u001b[0m \u001b[0maxis\u001b[0m\u001b[1;33m.\u001b[0m\u001b[0mget_indexer\u001b[0m\u001b[1;33m(\u001b[0m\u001b[0mnew_axis\u001b[0m\u001b[1;33m)\u001b[0m\u001b[1;33m\u001b[0m\u001b[1;33m\u001b[0m\u001b[0m\n\u001b[0;32m   4313\u001b[0m \u001b[1;33m\u001b[0m\u001b[0m\n",
      "\u001b[1;32mC:\\ProgramData\\Anaconda3\\lib\\site-packages\\pandas\\core\\indexes\\base.py\u001b[0m in \u001b[0;36mdrop\u001b[1;34m(self, labels, errors)\u001b[0m\n\u001b[0;32m   6659\u001b[0m         \u001b[1;32mif\u001b[0m \u001b[0mmask\u001b[0m\u001b[1;33m.\u001b[0m\u001b[0many\u001b[0m\u001b[1;33m(\u001b[0m\u001b[1;33m)\u001b[0m\u001b[1;33m:\u001b[0m\u001b[1;33m\u001b[0m\u001b[1;33m\u001b[0m\u001b[0m\n\u001b[0;32m   6660\u001b[0m             \u001b[1;32mif\u001b[0m \u001b[0merrors\u001b[0m \u001b[1;33m!=\u001b[0m \u001b[1;34m\"ignore\"\u001b[0m\u001b[1;33m:\u001b[0m\u001b[1;33m\u001b[0m\u001b[1;33m\u001b[0m\u001b[0m\n\u001b[1;32m-> 6661\u001b[1;33m                 \u001b[1;32mraise\u001b[0m \u001b[0mKeyError\u001b[0m\u001b[1;33m(\u001b[0m\u001b[1;34mf\"{list(labels[mask])} not found in axis\"\u001b[0m\u001b[1;33m)\u001b[0m\u001b[1;33m\u001b[0m\u001b[1;33m\u001b[0m\u001b[0m\n\u001b[0m\u001b[0;32m   6662\u001b[0m             \u001b[0mindexer\u001b[0m \u001b[1;33m=\u001b[0m \u001b[0mindexer\u001b[0m\u001b[1;33m[\u001b[0m\u001b[1;33m~\u001b[0m\u001b[0mmask\u001b[0m\u001b[1;33m]\u001b[0m\u001b[1;33m\u001b[0m\u001b[1;33m\u001b[0m\u001b[0m\n\u001b[0;32m   6663\u001b[0m         \u001b[1;32mreturn\u001b[0m \u001b[0mself\u001b[0m\u001b[1;33m.\u001b[0m\u001b[0mdelete\u001b[0m\u001b[1;33m(\u001b[0m\u001b[0mindexer\u001b[0m\u001b[1;33m)\u001b[0m\u001b[1;33m\u001b[0m\u001b[1;33m\u001b[0m\u001b[0m\n",
      "\u001b[1;31mKeyError\u001b[0m: '[(101, 16)] not found in axis'"
     ]
    }
   ],
   "source": [
    "y_train.drop(index=[train_out_index],inplace = True)\n",
    "y_test.drop(index=[test_out_index],inplace = True)"
   ]
  },
  {
   "cell_type": "code",
   "execution_count": 98,
   "id": "5da7b894",
   "metadata": {},
   "outputs": [
    {
     "name": "stdout",
     "output_type": "stream",
     "text": [
      "Random seed set as (seed}\n"
     ]
    }
   ],
   "source": [
    " import os\n",
    "\n",
    "import random\n",
    "\n",
    "def set_seed(seed: int= 42):\n",
    "\n",
    "    np.random.seed(seed)\n",
    "\n",
    "    tf.random.set_seed(seed)\n",
    "\n",
    "    tf.experimental.numpy.random.seed(seed)\n",
    "\n",
    "#When running on the Cube backend, two further options must be set\n",
    "\n",
    "os.environ[\"TF_CU_DETERMINISTIC\"] = '1'\n",
    "\n",
    "os.environ[\"TF_DETERMINISTIC_OPS\"] = '1'\n",
    "\n",
    "# Set a fixed value for the hash seed os.environ(\"PYTHONHASHSEED\"]= str(seed)\n",
    "\n",
    "print(\"Random seed set as (seed}\")\n",
    "\n"
   ]
  },
  {
   "cell_type": "code",
   "execution_count": 99,
   "id": "7d584d71",
   "metadata": {},
   "outputs": [],
   "source": [
    "#Scaling\n",
    "#standard scaler shift mean to 0 and std deviation to 1\n",
    "from sklearn.preprocessing import StandardScaler\n",
    "scaler = StandardScaler()\n",
    "x_train_scale = pd.DataFrame(scaler.fit_transform(x_train),columns=x_train.columns)\n",
    "x_test_scale = pd.DataFrame(scaler.fit_transform(x_test),columns=x_test.columns)"
   ]
  },
  {
   "cell_type": "code",
   "execution_count": 100,
   "id": "3252b261",
   "metadata": {},
   "outputs": [
    {
     "name": "stdout",
     "output_type": "stream",
     "text": [
      "Epoch 1/300\n",
      "5/5 [==============================] - 1s 63ms/step - loss: 2580.6421 - val_loss: 2291.5955\n",
      "Epoch 2/300\n",
      "5/5 [==============================] - 0s 17ms/step - loss: 2123.2700 - val_loss: 1886.1902\n",
      "Epoch 3/300\n",
      "5/5 [==============================] - 0s 15ms/step - loss: 1741.7399 - val_loss: 1538.9165\n",
      "Epoch 4/300\n",
      "5/5 [==============================] - 0s 15ms/step - loss: 1422.3372 - val_loss: 1243.9490\n",
      "Epoch 5/300\n",
      "5/5 [==============================] - 0s 16ms/step - loss: 1152.1836 - val_loss: 997.8647\n",
      "Epoch 6/300\n",
      "5/5 [==============================] - 0s 17ms/step - loss: 923.4097 - val_loss: 798.0438\n",
      "Epoch 7/300\n",
      "5/5 [==============================] - 0s 14ms/step - loss: 742.8354 - val_loss: 640.8138\n",
      "Epoch 8/300\n",
      "5/5 [==============================] - 0s 15ms/step - loss: 599.7503 - val_loss: 518.8063\n",
      "Epoch 9/300\n",
      "5/5 [==============================] - 0s 16ms/step - loss: 489.5359 - val_loss: 424.2255\n",
      "Epoch 10/300\n",
      "5/5 [==============================] - 0s 15ms/step - loss: 400.5771 - val_loss: 349.2607\n",
      "Epoch 11/300\n",
      "5/5 [==============================] - 0s 14ms/step - loss: 333.2801 - val_loss: 290.1487\n",
      "Epoch 12/300\n",
      "5/5 [==============================] - 0s 16ms/step - loss: 277.9607 - val_loss: 243.2762\n",
      "Epoch 13/300\n",
      "5/5 [==============================] - 0s 15ms/step - loss: 232.4339 - val_loss: 206.3657\n",
      "Epoch 14/300\n",
      "5/5 [==============================] - 0s 15ms/step - loss: 198.7723 - val_loss: 176.7903\n",
      "Epoch 15/300\n",
      "5/5 [==============================] - 0s 15ms/step - loss: 171.7701 - val_loss: 153.3562\n",
      "Epoch 16/300\n",
      "5/5 [==============================] - 0s 18ms/step - loss: 148.8473 - val_loss: 135.0021\n",
      "Epoch 17/300\n",
      "5/5 [==============================] - 0s 17ms/step - loss: 131.7113 - val_loss: 119.9745\n",
      "Epoch 18/300\n",
      "5/5 [==============================] - 0s 17ms/step - loss: 116.9100 - val_loss: 107.3162\n",
      "Epoch 19/300\n",
      "5/5 [==============================] - 0s 16ms/step - loss: 104.8548 - val_loss: 97.4232\n",
      "Epoch 20/300\n",
      "5/5 [==============================] - 0s 17ms/step - loss: 95.1390 - val_loss: 88.7356\n",
      "Epoch 21/300\n",
      "5/5 [==============================] - 0s 14ms/step - loss: 86.5903 - val_loss: 81.7688\n",
      "Epoch 22/300\n",
      "5/5 [==============================] - 0s 15ms/step - loss: 79.5014 - val_loss: 75.8961\n",
      "Epoch 23/300\n",
      "5/5 [==============================] - 0s 15ms/step - loss: 74.0643 - val_loss: 70.5396\n",
      "Epoch 24/300\n",
      "5/5 [==============================] - 0s 14ms/step - loss: 68.6402 - val_loss: 65.9373\n",
      "Epoch 25/300\n",
      "5/5 [==============================] - 0s 15ms/step - loss: 64.2219 - val_loss: 61.9876\n",
      "Epoch 26/300\n",
      "5/5 [==============================] - 0s 15ms/step - loss: 60.2585 - val_loss: 58.5177\n",
      "Epoch 27/300\n",
      "5/5 [==============================] - 0s 14ms/step - loss: 56.7971 - val_loss: 55.4851\n",
      "Epoch 28/300\n",
      "5/5 [==============================] - 0s 16ms/step - loss: 53.5767 - val_loss: 52.9183\n",
      "Epoch 29/300\n",
      "5/5 [==============================] - 0s 20ms/step - loss: 50.9510 - val_loss: 50.5595\n",
      "Epoch 30/300\n",
      "5/5 [==============================] - 0s 15ms/step - loss: 48.3717 - val_loss: 48.6034\n",
      "Epoch 31/300\n",
      "5/5 [==============================] - 0s 19ms/step - loss: 46.1904 - val_loss: 46.6971\n",
      "Epoch 32/300\n",
      "5/5 [==============================] - 0s 16ms/step - loss: 44.3204 - val_loss: 44.9069\n",
      "Epoch 33/300\n",
      "5/5 [==============================] - 0s 14ms/step - loss: 42.3269 - val_loss: 43.4624\n",
      "Epoch 34/300\n",
      "5/5 [==============================] - 0s 14ms/step - loss: 40.6413 - val_loss: 42.1180\n",
      "Epoch 35/300\n",
      "5/5 [==============================] - 0s 17ms/step - loss: 39.2770 - val_loss: 40.7184\n",
      "Epoch 36/300\n",
      "5/5 [==============================] - 0s 14ms/step - loss: 37.8148 - val_loss: 39.4924\n",
      "Epoch 37/300\n",
      "5/5 [==============================] - 0s 15ms/step - loss: 36.6085 - val_loss: 38.1871\n",
      "Epoch 38/300\n",
      "5/5 [==============================] - 0s 14ms/step - loss: 35.2917 - val_loss: 37.1240\n",
      "Epoch 39/300\n",
      "5/5 [==============================] - 0s 15ms/step - loss: 34.1413 - val_loss: 36.1210\n",
      "Epoch 40/300\n",
      "5/5 [==============================] - 0s 16ms/step - loss: 32.9299 - val_loss: 35.1211\n",
      "Epoch 41/300\n",
      "5/5 [==============================] - 0s 14ms/step - loss: 31.9568 - val_loss: 34.1994\n",
      "Epoch 42/300\n",
      "5/5 [==============================] - 0s 15ms/step - loss: 30.9445 - val_loss: 33.3335\n",
      "Epoch 43/300\n",
      "5/5 [==============================] - 0s 17ms/step - loss: 29.9267 - val_loss: 32.5097\n",
      "Epoch 44/300\n",
      "5/5 [==============================] - 0s 16ms/step - loss: 29.0047 - val_loss: 31.7547\n",
      "Epoch 45/300\n",
      "5/5 [==============================] - 0s 17ms/step - loss: 28.2499 - val_loss: 30.8973\n",
      "Epoch 46/300\n",
      "5/5 [==============================] - 0s 15ms/step - loss: 27.3564 - val_loss: 30.1379\n",
      "Epoch 47/300\n",
      "5/5 [==============================] - 0s 17ms/step - loss: 26.6612 - val_loss: 29.4424\n",
      "Epoch 48/300\n",
      "5/5 [==============================] - 0s 20ms/step - loss: 25.7968 - val_loss: 28.6452\n",
      "Epoch 49/300\n",
      "5/5 [==============================] - 0s 22ms/step - loss: 25.0729 - val_loss: 27.9568\n",
      "Epoch 50/300\n",
      "5/5 [==============================] - 0s 16ms/step - loss: 24.3021 - val_loss: 27.2577\n",
      "Epoch 51/300\n",
      "5/5 [==============================] - 0s 14ms/step - loss: 23.6156 - val_loss: 26.4673\n",
      "Epoch 52/300\n",
      "5/5 [==============================] - 0s 17ms/step - loss: 23.0031 - val_loss: 25.7399\n",
      "Epoch 53/300\n",
      "5/5 [==============================] - 0s 15ms/step - loss: 22.2106 - val_loss: 24.8968\n",
      "Epoch 54/300\n",
      "5/5 [==============================] - 0s 16ms/step - loss: 21.5542 - val_loss: 23.8886\n",
      "Epoch 55/300\n",
      "5/5 [==============================] - 0s 13ms/step - loss: 20.7366 - val_loss: 22.5308\n",
      "Epoch 56/300\n",
      "5/5 [==============================] - 0s 13ms/step - loss: 19.9181 - val_loss: 20.9300\n",
      "Epoch 57/300\n",
      "5/5 [==============================] - 0s 15ms/step - loss: 18.7878 - val_loss: 19.4009\n",
      "Epoch 58/300\n",
      "5/5 [==============================] - 0s 15ms/step - loss: 17.2393 - val_loss: 17.6147\n",
      "Epoch 59/300\n",
      "5/5 [==============================] - 0s 14ms/step - loss: 15.6775 - val_loss: 15.6684\n",
      "Epoch 60/300\n",
      "5/5 [==============================] - 0s 15ms/step - loss: 13.9145 - val_loss: 13.8231\n",
      "Epoch 61/300\n",
      "5/5 [==============================] - 0s 13ms/step - loss: 12.4209 - val_loss: 12.1981\n",
      "Epoch 62/300\n",
      "5/5 [==============================] - 0s 14ms/step - loss: 11.3216 - val_loss: 10.9769\n",
      "Epoch 63/300\n",
      "5/5 [==============================] - 0s 17ms/step - loss: 10.1233 - val_loss: 9.9022\n",
      "Epoch 64/300\n",
      "5/5 [==============================] - 0s 17ms/step - loss: 9.3688 - val_loss: 8.8464\n",
      "Epoch 65/300\n",
      "5/5 [==============================] - 0s 15ms/step - loss: 8.3727 - val_loss: 7.9245\n",
      "Epoch 66/300\n",
      "5/5 [==============================] - 0s 15ms/step - loss: 7.7712 - val_loss: 7.2183\n",
      "Epoch 67/300\n",
      "5/5 [==============================] - 0s 15ms/step - loss: 7.1276 - val_loss: 6.5787\n",
      "Epoch 68/300\n",
      "5/5 [==============================] - 0s 14ms/step - loss: 6.5857 - val_loss: 6.0294\n",
      "Epoch 69/300\n",
      "5/5 [==============================] - 0s 14ms/step - loss: 6.1903 - val_loss: 5.5317\n",
      "Epoch 70/300\n",
      "5/5 [==============================] - 0s 17ms/step - loss: 5.8126 - val_loss: 5.0833\n",
      "Epoch 71/300\n",
      "5/5 [==============================] - 0s 15ms/step - loss: 5.4847 - val_loss: 4.7454\n",
      "Epoch 72/300\n",
      "5/5 [==============================] - 0s 16ms/step - loss: 5.2614 - val_loss: 4.4704\n",
      "Epoch 73/300\n",
      "5/5 [==============================] - 0s 13ms/step - loss: 5.0782 - val_loss: 4.1368\n",
      "Epoch 74/300\n",
      "5/5 [==============================] - 0s 13ms/step - loss: 4.8340 - val_loss: 3.9018\n",
      "Epoch 75/300\n",
      "5/5 [==============================] - 0s 14ms/step - loss: 4.6317 - val_loss: 3.7581\n",
      "Epoch 76/300\n",
      "5/5 [==============================] - 0s 20ms/step - loss: 4.5317 - val_loss: 3.6279\n",
      "Epoch 77/300\n",
      "5/5 [==============================] - 0s 17ms/step - loss: 4.3559 - val_loss: 3.4173\n",
      "Epoch 78/300\n",
      "5/5 [==============================] - 0s 15ms/step - loss: 4.2641 - val_loss: 3.2909\n",
      "Epoch 79/300\n",
      "5/5 [==============================] - 0s 16ms/step - loss: 4.1269 - val_loss: 3.2179\n",
      "Epoch 80/300\n",
      "5/5 [==============================] - 0s 19ms/step - loss: 4.0442 - val_loss: 3.0913\n",
      "Epoch 81/300\n",
      "5/5 [==============================] - 0s 20ms/step - loss: 3.9390 - val_loss: 2.9617\n",
      "Epoch 82/300\n"
     ]
    },
    {
     "name": "stdout",
     "output_type": "stream",
     "text": [
      "5/5 [==============================] - 0s 19ms/step - loss: 3.8555 - val_loss: 2.9212\n",
      "Epoch 83/300\n",
      "5/5 [==============================] - 0s 18ms/step - loss: 3.7470 - val_loss: 2.8144\n",
      "Epoch 84/300\n",
      "5/5 [==============================] - 0s 18ms/step - loss: 3.6925 - val_loss: 2.7443\n",
      "Epoch 85/300\n",
      "5/5 [==============================] - 0s 20ms/step - loss: 3.6116 - val_loss: 2.7240\n",
      "Epoch 86/300\n",
      "5/5 [==============================] - 0s 21ms/step - loss: 3.5765 - val_loss: 2.6819\n",
      "Epoch 87/300\n",
      "5/5 [==============================] - 0s 17ms/step - loss: 3.5255 - val_loss: 2.6118\n",
      "Epoch 88/300\n",
      "5/5 [==============================] - 0s 15ms/step - loss: 3.5139 - val_loss: 2.5770\n",
      "Epoch 89/300\n",
      "5/5 [==============================] - 0s 14ms/step - loss: 3.4382 - val_loss: 2.5759\n",
      "Epoch 90/300\n",
      "5/5 [==============================] - 0s 13ms/step - loss: 3.4126 - val_loss: 2.5297\n",
      "Epoch 91/300\n",
      "5/5 [==============================] - 0s 16ms/step - loss: 3.3706 - val_loss: 2.5171\n",
      "Epoch 92/300\n",
      "5/5 [==============================] - 0s 15ms/step - loss: 3.3441 - val_loss: 2.4859\n",
      "Epoch 93/300\n",
      "5/5 [==============================] - 0s 14ms/step - loss: 3.3273 - val_loss: 2.4860\n",
      "Epoch 94/300\n",
      "5/5 [==============================] - 0s 16ms/step - loss: 3.2915 - val_loss: 2.4449\n",
      "Epoch 95/300\n",
      "5/5 [==============================] - 0s 16ms/step - loss: 3.2727 - val_loss: 2.4353\n",
      "Epoch 96/300\n",
      "5/5 [==============================] - 0s 14ms/step - loss: 3.2328 - val_loss: 2.4446\n",
      "Epoch 97/300\n",
      "5/5 [==============================] - 0s 14ms/step - loss: 3.2256 - val_loss: 2.4273\n",
      "Epoch 98/300\n",
      "5/5 [==============================] - 0s 16ms/step - loss: 3.2160 - val_loss: 2.4187\n",
      "Epoch 99/300\n",
      "5/5 [==============================] - 0s 14ms/step - loss: 3.2090 - val_loss: 2.3867\n",
      "Epoch 100/300\n",
      "5/5 [==============================] - 0s 15ms/step - loss: 3.1698 - val_loss: 2.3891\n",
      "Epoch 101/300\n",
      "5/5 [==============================] - 0s 14ms/step - loss: 3.1516 - val_loss: 2.3992\n",
      "Epoch 102/300\n",
      "5/5 [==============================] - 0s 14ms/step - loss: 3.1519 - val_loss: 2.3557\n",
      "Epoch 103/300\n",
      "5/5 [==============================] - 0s 15ms/step - loss: 3.1258 - val_loss: 2.3524\n",
      "Epoch 104/300\n",
      "5/5 [==============================] - 0s 15ms/step - loss: 3.1134 - val_loss: 2.3553\n",
      "Epoch 105/300\n",
      "5/5 [==============================] - 0s 14ms/step - loss: 3.0986 - val_loss: 2.3772\n",
      "Epoch 106/300\n",
      "5/5 [==============================] - 0s 15ms/step - loss: 3.0713 - val_loss: 2.3265\n",
      "Epoch 107/300\n",
      "5/5 [==============================] - 0s 15ms/step - loss: 3.1099 - val_loss: 2.3214\n",
      "Epoch 108/300\n",
      "5/5 [==============================] - 0s 14ms/step - loss: 3.0929 - val_loss: 2.3713\n",
      "Epoch 109/300\n",
      "5/5 [==============================] - 0s 13ms/step - loss: 3.0609 - val_loss: 2.3054\n",
      "Epoch 110/300\n",
      "5/5 [==============================] - 0s 14ms/step - loss: 3.0748 - val_loss: 2.2988\n",
      "Epoch 111/300\n",
      "5/5 [==============================] - 0s 19ms/step - loss: 3.0160 - val_loss: 2.3058\n",
      "Epoch 112/300\n",
      "5/5 [==============================] - 0s 17ms/step - loss: 3.0083 - val_loss: 2.2802\n",
      "Epoch 113/300\n",
      "5/5 [==============================] - 0s 15ms/step - loss: 2.9974 - val_loss: 2.2726\n",
      "Epoch 114/300\n",
      "5/5 [==============================] - 0s 14ms/step - loss: 2.9791 - val_loss: 2.2466\n",
      "Epoch 115/300\n",
      "5/5 [==============================] - 0s 15ms/step - loss: 2.9759 - val_loss: 2.2397\n",
      "Epoch 116/300\n",
      "5/5 [==============================] - 0s 14ms/step - loss: 2.9523 - val_loss: 2.2376\n",
      "Epoch 117/300\n",
      "5/5 [==============================] - 0s 17ms/step - loss: 2.9555 - val_loss: 2.2939\n",
      "Epoch 118/300\n",
      "5/5 [==============================] - 0s 20ms/step - loss: 2.9645 - val_loss: 2.2204\n",
      "Epoch 119/300\n",
      "5/5 [==============================] - 0s 18ms/step - loss: 2.9341 - val_loss: 2.2351\n",
      "Epoch 120/300\n",
      "5/5 [==============================] - 0s 20ms/step - loss: 2.9245 - val_loss: 2.2126\n",
      "Epoch 121/300\n",
      "5/5 [==============================] - 0s 17ms/step - loss: 2.8884 - val_loss: 2.2177\n",
      "Epoch 122/300\n",
      "5/5 [==============================] - 0s 17ms/step - loss: 2.9170 - val_loss: 2.2017\n",
      "Epoch 123/300\n",
      "5/5 [==============================] - 0s 15ms/step - loss: 2.9020 - val_loss: 2.2627\n",
      "Epoch 124/300\n",
      "5/5 [==============================] - 0s 15ms/step - loss: 2.8758 - val_loss: 2.1964\n",
      "Epoch 125/300\n",
      "5/5 [==============================] - 0s 15ms/step - loss: 2.8552 - val_loss: 2.1841\n",
      "Epoch 126/300\n",
      "5/5 [==============================] - 0s 21ms/step - loss: 2.8600 - val_loss: 2.1803\n",
      "Epoch 127/300\n",
      "5/5 [==============================] - 0s 24ms/step - loss: 2.9165 - val_loss: 2.1775\n",
      "Epoch 128/300\n",
      "5/5 [==============================] - 0s 17ms/step - loss: 2.8260 - val_loss: 2.2488\n",
      "Epoch 129/300\n",
      "5/5 [==============================] - 0s 19ms/step - loss: 2.8371 - val_loss: 2.1744\n",
      "Epoch 130/300\n",
      "5/5 [==============================] - 0s 17ms/step - loss: 2.7938 - val_loss: 2.1525\n",
      "Epoch 131/300\n",
      "5/5 [==============================] - 0s 16ms/step - loss: 2.8058 - val_loss: 2.1474\n",
      "Epoch 132/300\n",
      "5/5 [==============================] - 0s 17ms/step - loss: 2.8306 - val_loss: 2.2138\n",
      "Epoch 133/300\n",
      "5/5 [==============================] - 0s 15ms/step - loss: 2.7658 - val_loss: 2.1419\n",
      "Epoch 134/300\n",
      "5/5 [==============================] - 0s 17ms/step - loss: 2.8233 - val_loss: 2.1438\n",
      "Epoch 135/300\n",
      "5/5 [==============================] - 0s 15ms/step - loss: 2.7624 - val_loss: 2.1740\n",
      "Epoch 136/300\n",
      "5/5 [==============================] - 0s 16ms/step - loss: 2.7732 - val_loss: 2.1228\n",
      "Epoch 137/300\n",
      "5/5 [==============================] - 0s 15ms/step - loss: 2.7234 - val_loss: 2.1295\n",
      "Epoch 138/300\n",
      "5/5 [==============================] - 0s 24ms/step - loss: 2.7172 - val_loss: 2.1266\n",
      "Epoch 139/300\n",
      "5/5 [==============================] - 0s 18ms/step - loss: 2.7188 - val_loss: 2.1260\n",
      "Epoch 140/300\n",
      "5/5 [==============================] - 0s 19ms/step - loss: 2.7023 - val_loss: 2.1105\n",
      "Epoch 141/300\n",
      "5/5 [==============================] - 0s 24ms/step - loss: 2.7113 - val_loss: 2.1182\n",
      "Epoch 142/300\n",
      "5/5 [==============================] - 0s 21ms/step - loss: 2.6975 - val_loss: 2.1046\n",
      "Epoch 143/300\n",
      "5/5 [==============================] - 0s 23ms/step - loss: 2.6731 - val_loss: 2.1000\n",
      "Epoch 144/300\n",
      "5/5 [==============================] - 0s 18ms/step - loss: 2.6727 - val_loss: 2.0986\n",
      "Epoch 145/300\n",
      "5/5 [==============================] - 0s 19ms/step - loss: 2.6676 - val_loss: 2.1060\n",
      "Epoch 146/300\n",
      "5/5 [==============================] - 0s 19ms/step - loss: 2.6617 - val_loss: 2.0936\n",
      "Epoch 147/300\n",
      "5/5 [==============================] - 0s 17ms/step - loss: 2.6466 - val_loss: 2.0794\n",
      "Epoch 148/300\n",
      "5/5 [==============================] - 0s 18ms/step - loss: 2.6630 - val_loss: 2.0737\n",
      "Epoch 149/300\n",
      "5/5 [==============================] - 0s 18ms/step - loss: 2.6390 - val_loss: 2.0937\n",
      "Epoch 150/300\n",
      "5/5 [==============================] - 0s 19ms/step - loss: 2.6312 - val_loss: 2.0857\n",
      "Epoch 151/300\n",
      "5/5 [==============================] - 0s 20ms/step - loss: 2.6216 - val_loss: 2.0665\n",
      "Epoch 152/300\n",
      "5/5 [==============================] - 0s 18ms/step - loss: 2.6202 - val_loss: 2.0670\n",
      "Epoch 153/300\n",
      "5/5 [==============================] - 0s 18ms/step - loss: 2.6055 - val_loss: 2.0676\n",
      "Epoch 154/300\n",
      "5/5 [==============================] - 0s 17ms/step - loss: 2.6117 - val_loss: 2.0632\n",
      "Epoch 155/300\n",
      "5/5 [==============================] - 0s 18ms/step - loss: 2.6452 - val_loss: 2.0920\n",
      "Epoch 156/300\n",
      "5/5 [==============================] - 0s 23ms/step - loss: 2.5828 - val_loss: 2.0576\n",
      "Epoch 157/300\n",
      "5/5 [==============================] - 0s 18ms/step - loss: 2.6106 - val_loss: 2.0463\n",
      "Epoch 158/300\n",
      "5/5 [==============================] - 0s 17ms/step - loss: 2.6122 - val_loss: 2.0955\n",
      "Epoch 159/300\n",
      "5/5 [==============================] - 0s 18ms/step - loss: 2.6475 - val_loss: 2.0460\n",
      "Epoch 160/300\n",
      "5/5 [==============================] - 0s 29ms/step - loss: 2.5904 - val_loss: 2.0673\n",
      "Epoch 161/300\n",
      "5/5 [==============================] - 0s 14ms/step - loss: 2.5649 - val_loss: 2.0339\n",
      "Epoch 162/300\n",
      "5/5 [==============================] - 0s 18ms/step - loss: 2.5755 - val_loss: 2.0323\n",
      "Epoch 163/300\n",
      "5/5 [==============================] - 0s 19ms/step - loss: 2.5456 - val_loss: 2.0661\n",
      "Epoch 164/300\n"
     ]
    },
    {
     "name": "stdout",
     "output_type": "stream",
     "text": [
      "5/5 [==============================] - 0s 15ms/step - loss: 2.5813 - val_loss: 2.0541\n",
      "Epoch 165/300\n",
      "5/5 [==============================] - 0s 15ms/step - loss: 2.6089 - val_loss: 2.0650\n",
      "Epoch 166/300\n",
      "5/5 [==============================] - 0s 13ms/step - loss: 2.5550 - val_loss: 2.0454\n",
      "Epoch 167/300\n",
      "5/5 [==============================] - 0s 14ms/step - loss: 2.6023 - val_loss: 2.0811\n",
      "Epoch 168/300\n",
      "5/5 [==============================] - 0s 14ms/step - loss: 2.5433 - val_loss: 2.0251\n",
      "Epoch 169/300\n",
      "5/5 [==============================] - 0s 13ms/step - loss: 2.5256 - val_loss: 2.0165\n",
      "Epoch 170/300\n",
      "5/5 [==============================] - 0s 15ms/step - loss: 2.4873 - val_loss: 2.0469\n",
      "Epoch 171/300\n",
      "5/5 [==============================] - 0s 17ms/step - loss: 2.5114 - val_loss: 2.0315\n",
      "Epoch 172/300\n",
      "5/5 [==============================] - 0s 19ms/step - loss: 2.5056 - val_loss: 2.0150\n",
      "Epoch 173/300\n",
      "5/5 [==============================] - 0s 18ms/step - loss: 2.4892 - val_loss: 2.0042\n",
      "Epoch 174/300\n",
      "5/5 [==============================] - 0s 17ms/step - loss: 2.4827 - val_loss: 2.0505\n",
      "Epoch 175/300\n",
      "5/5 [==============================] - 0s 15ms/step - loss: 2.4816 - val_loss: 2.0050\n",
      "Epoch 176/300\n",
      "5/5 [==============================] - 0s 15ms/step - loss: 2.4924 - val_loss: 2.0107\n",
      "Epoch 177/300\n",
      "5/5 [==============================] - 0s 17ms/step - loss: 2.4699 - val_loss: 2.0108\n",
      "Epoch 178/300\n",
      "5/5 [==============================] - 0s 18ms/step - loss: 2.4817 - val_loss: 2.0430\n",
      "Epoch 179/300\n",
      "5/5 [==============================] - 0s 16ms/step - loss: 2.4612 - val_loss: 1.9880\n",
      "Epoch 180/300\n",
      "5/5 [==============================] - 0s 17ms/step - loss: 2.4596 - val_loss: 1.9860\n",
      "Epoch 181/300\n",
      "5/5 [==============================] - 0s 15ms/step - loss: 2.4651 - val_loss: 2.0391\n",
      "Epoch 182/300\n",
      "5/5 [==============================] - 0s 15ms/step - loss: 2.4414 - val_loss: 1.9842\n",
      "Epoch 183/300\n",
      "5/5 [==============================] - 0s 14ms/step - loss: 2.4422 - val_loss: 1.9792\n",
      "Epoch 184/300\n",
      "5/5 [==============================] - 0s 16ms/step - loss: 2.4286 - val_loss: 1.9865\n",
      "Epoch 185/300\n",
      "5/5 [==============================] - 0s 15ms/step - loss: 2.4153 - val_loss: 1.9986\n",
      "Epoch 186/300\n",
      "5/5 [==============================] - 0s 14ms/step - loss: 2.4203 - val_loss: 1.9965\n",
      "Epoch 187/300\n",
      "5/5 [==============================] - 0s 14ms/step - loss: 2.4235 - val_loss: 1.9756\n",
      "Epoch 188/300\n",
      "5/5 [==============================] - 0s 14ms/step - loss: 2.4077 - val_loss: 1.9779\n",
      "Epoch 189/300\n",
      "5/5 [==============================] - 0s 20ms/step - loss: 2.4003 - val_loss: 1.9735\n",
      "Epoch 190/300\n",
      "5/5 [==============================] - 0s 20ms/step - loss: 2.3867 - val_loss: 1.9652\n",
      "Epoch 191/300\n",
      "5/5 [==============================] - 0s 19ms/step - loss: 2.3944 - val_loss: 1.9693\n",
      "Epoch 192/300\n",
      "5/5 [==============================] - 0s 18ms/step - loss: 2.4167 - val_loss: 1.9614\n",
      "Epoch 193/300\n",
      "5/5 [==============================] - 0s 17ms/step - loss: 2.4160 - val_loss: 1.9972\n",
      "Epoch 194/300\n",
      "5/5 [==============================] - 0s 22ms/step - loss: 2.3771 - val_loss: 1.9555\n",
      "Epoch 195/300\n",
      "5/5 [==============================] - 0s 14ms/step - loss: 2.3671 - val_loss: 1.9471\n",
      "Epoch 196/300\n",
      "5/5 [==============================] - 0s 17ms/step - loss: 2.3969 - val_loss: 1.9685\n",
      "Epoch 197/300\n",
      "5/5 [==============================] - 0s 16ms/step - loss: 2.3538 - val_loss: 1.9454\n",
      "Epoch 198/300\n",
      "5/5 [==============================] - 0s 15ms/step - loss: 2.4202 - val_loss: 1.9470\n",
      "Epoch 199/300\n",
      "5/5 [==============================] - 0s 16ms/step - loss: 2.3409 - val_loss: 2.0206\n",
      "Epoch 200/300\n",
      "5/5 [==============================] - 0s 16ms/step - loss: 2.3833 - val_loss: 1.9505\n",
      "Epoch 201/300\n",
      "5/5 [==============================] - 0s 17ms/step - loss: 2.4011 - val_loss: 1.9369\n",
      "Epoch 202/300\n",
      "5/5 [==============================] - 0s 15ms/step - loss: 2.3402 - val_loss: 1.9342\n",
      "Epoch 203/300\n",
      "5/5 [==============================] - 0s 17ms/step - loss: 2.3323 - val_loss: 1.9435\n",
      "Epoch 204/300\n",
      "5/5 [==============================] - 0s 14ms/step - loss: 2.3389 - val_loss: 1.9140\n",
      "Epoch 205/300\n",
      "5/5 [==============================] - 0s 18ms/step - loss: 2.3137 - val_loss: 1.9207\n",
      "Epoch 206/300\n",
      "5/5 [==============================] - 0s 19ms/step - loss: 2.3063 - val_loss: 1.9364\n",
      "Epoch 207/300\n",
      "5/5 [==============================] - 0s 22ms/step - loss: 2.3292 - val_loss: 1.9316\n",
      "Epoch 208/300\n",
      "5/5 [==============================] - 0s 25ms/step - loss: 2.3202 - val_loss: 1.9179\n",
      "Epoch 209/300\n",
      "5/5 [==============================] - 0s 19ms/step - loss: 2.3142 - val_loss: 1.9244\n",
      "Epoch 210/300\n",
      "5/5 [==============================] - 0s 24ms/step - loss: 2.2938 - val_loss: 1.9111\n",
      "Epoch 211/300\n",
      "5/5 [==============================] - 0s 27ms/step - loss: 2.2844 - val_loss: 1.9065\n",
      "Epoch 212/300\n",
      "5/5 [==============================] - 0s 31ms/step - loss: 2.2890 - val_loss: 1.9098\n",
      "Epoch 213/300\n",
      "5/5 [==============================] - 0s 23ms/step - loss: 2.2855 - val_loss: 1.9002\n",
      "Epoch 214/300\n",
      "5/5 [==============================] - 0s 24ms/step - loss: 2.2820 - val_loss: 1.9001\n",
      "Epoch 215/300\n",
      "5/5 [==============================] - 0s 22ms/step - loss: 2.2794 - val_loss: 1.8911\n",
      "Epoch 216/300\n",
      "5/5 [==============================] - 0s 20ms/step - loss: 2.2857 - val_loss: 1.9129\n",
      "Epoch 217/300\n",
      "5/5 [==============================] - 0s 17ms/step - loss: 2.2766 - val_loss: 1.8874\n",
      "Epoch 218/300\n",
      "5/5 [==============================] - 0s 20ms/step - loss: 2.2783 - val_loss: 1.8795\n",
      "Epoch 219/300\n",
      "5/5 [==============================] - 0s 16ms/step - loss: 2.2620 - val_loss: 1.9122\n",
      "Epoch 220/300\n",
      "5/5 [==============================] - 0s 17ms/step - loss: 2.2558 - val_loss: 1.8820\n",
      "Epoch 221/300\n",
      "5/5 [==============================] - 0s 21ms/step - loss: 2.3170 - val_loss: 1.8817\n",
      "Epoch 222/300\n",
      "5/5 [==============================] - 0s 19ms/step - loss: 2.2468 - val_loss: 1.9334\n",
      "Epoch 223/300\n",
      "5/5 [==============================] - 0s 16ms/step - loss: 2.2999 - val_loss: 1.8709\n",
      "Epoch 224/300\n",
      "5/5 [==============================] - 0s 18ms/step - loss: 2.2359 - val_loss: 1.8953\n",
      "Epoch 225/300\n",
      "5/5 [==============================] - 0s 22ms/step - loss: 2.2351 - val_loss: 1.8661\n",
      "Epoch 226/300\n",
      "5/5 [==============================] - 0s 21ms/step - loss: 2.2266 - val_loss: 1.8658\n",
      "Epoch 227/300\n",
      "5/5 [==============================] - 0s 21ms/step - loss: 2.2307 - val_loss: 1.8675\n",
      "Epoch 228/300\n",
      "5/5 [==============================] - 0s 19ms/step - loss: 2.2110 - val_loss: 1.8855\n",
      "Epoch 229/300\n",
      "5/5 [==============================] - 0s 28ms/step - loss: 2.2211 - val_loss: 1.8587\n",
      "Epoch 230/300\n",
      "5/5 [==============================] - 0s 14ms/step - loss: 2.2100 - val_loss: 1.8531\n",
      "Epoch 231/300\n",
      "5/5 [==============================] - 0s 15ms/step - loss: 2.2050 - val_loss: 1.8683\n",
      "Epoch 232/300\n",
      "5/5 [==============================] - 0s 15ms/step - loss: 2.2136 - val_loss: 1.8498\n",
      "Epoch 233/300\n",
      "5/5 [==============================] - 0s 16ms/step - loss: 2.2030 - val_loss: 1.8417\n",
      "Epoch 234/300\n",
      "5/5 [==============================] - 0s 17ms/step - loss: 2.1920 - val_loss: 1.8616\n",
      "Epoch 235/300\n",
      "5/5 [==============================] - 0s 19ms/step - loss: 2.1951 - val_loss: 1.8562\n",
      "Epoch 236/300\n",
      "5/5 [==============================] - 0s 17ms/step - loss: 2.1782 - val_loss: 1.8319\n",
      "Epoch 237/300\n",
      "5/5 [==============================] - 0s 17ms/step - loss: 2.1844 - val_loss: 1.8366\n",
      "Epoch 238/300\n",
      "5/5 [==============================] - 0s 19ms/step - loss: 2.1738 - val_loss: 1.8523\n",
      "Epoch 239/300\n",
      "5/5 [==============================] - 0s 19ms/step - loss: 2.1768 - val_loss: 1.8289\n",
      "Epoch 240/300\n",
      "5/5 [==============================] - 0s 17ms/step - loss: 2.1653 - val_loss: 1.8224\n",
      "Epoch 241/300\n",
      "5/5 [==============================] - 0s 18ms/step - loss: 2.1644 - val_loss: 1.8333\n",
      "Epoch 242/300\n",
      "5/5 [==============================] - 0s 14ms/step - loss: 2.1609 - val_loss: 1.8255\n",
      "Epoch 243/300\n",
      "5/5 [==============================] - 0s 15ms/step - loss: 2.1657 - val_loss: 1.8095\n",
      "Epoch 244/300\n",
      "5/5 [==============================] - 0s 15ms/step - loss: 2.2018 - val_loss: 1.8443\n",
      "Epoch 245/300\n",
      "5/5 [==============================] - 0s 16ms/step - loss: 2.1506 - val_loss: 1.8193\n",
      "Epoch 246/300\n"
     ]
    },
    {
     "name": "stdout",
     "output_type": "stream",
     "text": [
      "5/5 [==============================] - 0s 16ms/step - loss: 2.1677 - val_loss: 1.8226\n",
      "Epoch 247/300\n",
      "5/5 [==============================] - 0s 16ms/step - loss: 2.1586 - val_loss: 1.8576\n",
      "Epoch 248/300\n",
      "5/5 [==============================] - 0s 15ms/step - loss: 2.1494 - val_loss: 1.8059\n",
      "Epoch 249/300\n",
      "5/5 [==============================] - 0s 14ms/step - loss: 2.1500 - val_loss: 1.7973\n",
      "Epoch 250/300\n",
      "5/5 [==============================] - 0s 14ms/step - loss: 2.1387 - val_loss: 1.8515\n",
      "Epoch 251/300\n",
      "5/5 [==============================] - 0s 15ms/step - loss: 2.1561 - val_loss: 1.7962\n",
      "Epoch 252/300\n",
      "5/5 [==============================] - 0s 15ms/step - loss: 2.1338 - val_loss: 1.8082\n",
      "Epoch 253/300\n",
      "5/5 [==============================] - 0s 14ms/step - loss: 2.1229 - val_loss: 1.7941\n",
      "Epoch 254/300\n",
      "5/5 [==============================] - 0s 16ms/step - loss: 2.1154 - val_loss: 1.8000\n",
      "Epoch 255/300\n",
      "5/5 [==============================] - 0s 15ms/step - loss: 2.1178 - val_loss: 1.8082\n",
      "Epoch 256/300\n",
      "5/5 [==============================] - 0s 15ms/step - loss: 2.1085 - val_loss: 1.7864\n",
      "Epoch 257/300\n",
      "5/5 [==============================] - 0s 20ms/step - loss: 2.1269 - val_loss: 1.7787\n",
      "Epoch 258/300\n",
      "5/5 [==============================] - 0s 20ms/step - loss: 2.0972 - val_loss: 1.8086\n",
      "Epoch 259/300\n",
      "5/5 [==============================] - 0s 22ms/step - loss: 2.1146 - val_loss: 1.7862\n",
      "Epoch 260/300\n",
      "5/5 [==============================] - 0s 18ms/step - loss: 2.0881 - val_loss: 1.7785\n",
      "Epoch 261/300\n",
      "5/5 [==============================] - 0s 18ms/step - loss: 2.1189 - val_loss: 1.7952\n",
      "Epoch 262/300\n",
      "5/5 [==============================] - 0s 16ms/step - loss: 2.0849 - val_loss: 1.7814\n",
      "Epoch 263/300\n",
      "5/5 [==============================] - 0s 15ms/step - loss: 2.0843 - val_loss: 1.7733\n",
      "Epoch 264/300\n",
      "5/5 [==============================] - 0s 14ms/step - loss: 2.0810 - val_loss: 1.7803\n",
      "Epoch 265/300\n",
      "5/5 [==============================] - 0s 14ms/step - loss: 2.0753 - val_loss: 1.7771\n",
      "Epoch 266/300\n",
      "5/5 [==============================] - 0s 15ms/step - loss: 2.0727 - val_loss: 1.7645\n",
      "Epoch 267/300\n",
      "5/5 [==============================] - 0s 19ms/step - loss: 2.0787 - val_loss: 1.7735\n",
      "Epoch 268/300\n",
      "5/5 [==============================] - 0s 21ms/step - loss: 2.0840 - val_loss: 1.7658\n",
      "Epoch 269/300\n",
      "5/5 [==============================] - 0s 20ms/step - loss: 2.0700 - val_loss: 1.7534\n",
      "Epoch 270/300\n",
      "5/5 [==============================] - 0s 15ms/step - loss: 2.0557 - val_loss: 1.7679\n",
      "Epoch 271/300\n",
      "5/5 [==============================] - 0s 15ms/step - loss: 2.0613 - val_loss: 1.7584\n",
      "Epoch 272/300\n",
      "5/5 [==============================] - 0s 16ms/step - loss: 2.0518 - val_loss: 1.7553\n",
      "Epoch 273/300\n",
      "5/5 [==============================] - 0s 17ms/step - loss: 2.0561 - val_loss: 1.7450\n",
      "Epoch 274/300\n",
      "5/5 [==============================] - 0s 19ms/step - loss: 2.0687 - val_loss: 1.7570\n",
      "Epoch 275/300\n",
      "5/5 [==============================] - 0s 21ms/step - loss: 2.0308 - val_loss: 1.7425\n",
      "Epoch 276/300\n",
      "5/5 [==============================] - 0s 22ms/step - loss: 2.0442 - val_loss: 1.7439\n",
      "Epoch 277/300\n",
      "5/5 [==============================] - 0s 18ms/step - loss: 2.0433 - val_loss: 1.7487\n",
      "Epoch 278/300\n",
      "5/5 [==============================] - 0s 17ms/step - loss: 2.0661 - val_loss: 1.7660\n",
      "Epoch 279/300\n",
      "5/5 [==============================] - 0s 19ms/step - loss: 2.0391 - val_loss: 1.7443\n",
      "Epoch 280/300\n",
      "5/5 [==============================] - 0s 15ms/step - loss: 2.0387 - val_loss: 1.7324\n",
      "Epoch 281/300\n",
      "5/5 [==============================] - 0s 16ms/step - loss: 2.0279 - val_loss: 1.7676\n",
      "Epoch 282/300\n",
      "5/5 [==============================] - 0s 16ms/step - loss: 2.0394 - val_loss: 1.7225\n",
      "Epoch 283/300\n",
      "5/5 [==============================] - 0s 18ms/step - loss: 2.0122 - val_loss: 1.7363\n",
      "Epoch 284/300\n",
      "5/5 [==============================] - 0s 23ms/step - loss: 2.0054 - val_loss: 1.7327\n",
      "Epoch 285/300\n",
      "5/5 [==============================] - 0s 19ms/step - loss: 2.0189 - val_loss: 1.7367\n",
      "Epoch 286/300\n",
      "5/5 [==============================] - 0s 18ms/step - loss: 2.0007 - val_loss: 1.7204\n",
      "Epoch 287/300\n",
      "5/5 [==============================] - 0s 15ms/step - loss: 1.9968 - val_loss: 1.7256\n",
      "Epoch 288/300\n",
      "5/5 [==============================] - 0s 19ms/step - loss: 1.9959 - val_loss: 1.7229\n",
      "Epoch 289/300\n",
      "5/5 [==============================] - 0s 15ms/step - loss: 1.9866 - val_loss: 1.7211\n",
      "Epoch 290/300\n",
      "5/5 [==============================] - 0s 17ms/step - loss: 1.9807 - val_loss: 1.7094\n",
      "Epoch 291/300\n",
      "5/5 [==============================] - 0s 19ms/step - loss: 1.9953 - val_loss: 1.7118\n",
      "Epoch 292/300\n",
      "5/5 [==============================] - 0s 20ms/step - loss: 1.9774 - val_loss: 1.7295\n",
      "Epoch 293/300\n",
      "5/5 [==============================] - 0s 17ms/step - loss: 1.9748 - val_loss: 1.7049\n",
      "Epoch 294/300\n",
      "5/5 [==============================] - 0s 16ms/step - loss: 1.9805 - val_loss: 1.6954\n",
      "Epoch 295/300\n",
      "5/5 [==============================] - 0s 14ms/step - loss: 1.9725 - val_loss: 1.7122\n",
      "Epoch 296/300\n",
      "5/5 [==============================] - 0s 16ms/step - loss: 1.9797 - val_loss: 1.7162\n",
      "Epoch 297/300\n",
      "5/5 [==============================] - 0s 15ms/step - loss: 1.9737 - val_loss: 1.6951\n",
      "Epoch 298/300\n",
      "5/5 [==============================] - 0s 17ms/step - loss: 1.9540 - val_loss: 1.7012\n",
      "Epoch 299/300\n",
      "5/5 [==============================] - 0s 17ms/step - loss: 1.9505 - val_loss: 1.6947\n",
      "Epoch 300/300\n",
      "5/5 [==============================] - 0s 14ms/step - loss: 1.9522 - val_loss: 1.6970\n"
     ]
    }
   ],
   "source": [
    "set_seed(3)\n",
    "\n",
    "#model creation\n",
    "\n",
    "model = tf.keras.Sequential([\n",
    "    tf.keras.layers.InputLayer(input_shape = (3,)),\n",
    "    tf.keras.layers.Dense(10, activation = 'relu'),\n",
    "    tf.keras.layers.Dense(8, activation = 'relu'),\n",
    "    tf.keras.layers.Dense(1, activation = 'linear'),\n",
    "])\n",
    "\n",
    "#model compile\n",
    "model.compile(\n",
    "    loss = \"mse\",\n",
    "    optimizer = 'adam'\n",
    ")\n",
    "\n",
    "#model.fit\n",
    "history = model.fit(x_train,y_train,validation_data = [x_test,y_test], epochs =300)"
   ]
  },
  {
   "cell_type": "code",
   "execution_count": 103,
   "id": "bc883602",
   "metadata": {},
   "outputs": [
    {
     "data": {
      "text/plain": [
       "[<matplotlib.lines.Line2D at 0x29327e96df0>,\n",
       " <matplotlib.lines.Line2D at 0x29327e96e50>]"
      ]
     },
     "execution_count": 103,
     "metadata": {},
     "output_type": "execute_result"
    },
    {
     "data": {
      "image/png": "[encoded data removed]",
      "text/plain": [
       "<Figure size 640x480 with 1 Axes>"
      ]
     },
     "metadata": {},
     "output_type": "display_data"
    }
   ],
   "source": [
    "plt.plot(pd.DataFrame(history.history))"
   ]
  },
  {
   "cell_type": "code",
   "execution_count": null,
   "id": "2e723015",
   "metadata": {},
   "outputs": [],
   "source": []
  }
 ],
 "metadata": {
  "kernelspec": {
   "display_name": "Python 3 (ipykernel)",
   "language": "python",
   "name": "python3"
  },
  "language_info": {
   "codemirror_mode": {
    "name": "ipython",
    "version": 3
   },
   "file_extension": ".py",
   "mimetype": "text/x-python",
   "name": "python",
   "nbconvert_exporter": "python",
   "pygments_lexer": "ipython3",
   "version": "3.9.13"
  }
 },
 "nbformat": 4,
 "nbformat_minor": 5
}
