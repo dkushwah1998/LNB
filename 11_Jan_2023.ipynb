{
 "cells": [
  {
   "cell_type": "code",
   "execution_count": 2,
   "id": "e967ed22",
   "metadata": {},
   "outputs": [
    {
     "name": "stdout",
     "output_type": "stream",
     "text": [
      "Sum of numbers is:  5\n"
     ]
    }
   ],
   "source": [
    "def add(*num):\n",
    "    i = 0\n",
    "    for n in num:\n",
    "        i = i + n\n",
    "    print(\"Sum of numbers is: \",i)\n",
    "add(5)"
   ]
  },
  {
   "cell_type": "code",
   "execution_count": 3,
   "id": "43561c63",
   "metadata": {},
   "outputs": [
    {
     "name": "stdout",
     "output_type": "stream",
     "text": [
      "Sum of numbers is:  54\n"
     ]
    }
   ],
   "source": [
    "add(4,5,6,8,7,5,8,6,5)"
   ]
  },
  {
   "cell_type": "code",
   "execution_count": 4,
   "id": "dcb62e35",
   "metadata": {},
   "outputs": [],
   "source": [
    "greet = lambda name: print(\"Hello\",name)"
   ]
  },
  {
   "cell_type": "code",
   "execution_count": 6,
   "id": "46214f68",
   "metadata": {},
   "outputs": [
    {
     "name": "stdout",
     "output_type": "stream",
     "text": [
      "Hello Dharmendra\n"
     ]
    }
   ],
   "source": [
    "greet(\"Dharmendra\")"
   ]
  },
  {
   "cell_type": "code",
   "execution_count": 7,
   "id": "6b0ad83e",
   "metadata": {},
   "outputs": [],
   "source": [
    "l1 = [1,2,3,4,5,6,7,8,9,10]\n",
    "new_lst = list(filter(lambda x : (x%2==0),l1))"
   ]
  },
  {
   "cell_type": "code",
   "execution_count": 8,
   "id": "8ae25273",
   "metadata": {},
   "outputs": [
    {
     "data": {
      "text/plain": [
       "[2, 4, 6, 8, 10]"
      ]
     },
     "execution_count": 8,
     "metadata": {},
     "output_type": "execute_result"
    }
   ],
   "source": [
    "new_lst"
   ]
  },
  {
   "cell_type": "code",
   "execution_count": 10,
   "id": "dd1f6c59",
   "metadata": {},
   "outputs": [
    {
     "name": "stdout",
     "output_type": "stream",
     "text": [
      "False\n",
      "True\n"
     ]
    }
   ],
   "source": [
    "def first_last_char(string):\n",
    "    if string[0]==string[-1]:\n",
    "        print(\"True\")\n",
    "    else:\n",
    "        print(\"False\")\n",
    "first_last_char(\"Dharmendra\")\n",
    "first_last_char(\"malyalam\")"
   ]
  },
  {
   "cell_type": "code",
   "execution_count": null,
   "id": "26c85152",
   "metadata": {},
   "outputs": [],
   "source": []
  },
  {
   "cell_type": "code",
   "execution_count": null,
   "id": "4ae5a9f4",
   "metadata": {},
   "outputs": [],
   "source": []
  }
 ],
 "metadata": {
  "kernelspec": {
   "display_name": "Python 3 (ipykernel)",
   "language": "python",
   "name": "python3"
  },
  "language_info": {
   "codemirror_mode": {
    "name": "ipython",
    "version": 3
   },
   "file_extension": ".py",
   "mimetype": "text/x-python",
   "name": "python",
   "nbconvert_exporter": "python",
   "pygments_lexer": "ipython3",
   "version": "3.9.12"
  }
 },
 "nbformat": 4,
 "nbformat_minor": 5
}
