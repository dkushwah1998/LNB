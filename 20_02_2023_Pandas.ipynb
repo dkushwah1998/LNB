{
 "cells": [
  {
   "cell_type": "code",
   "execution_count": 6,
   "id": "ab05b4d5",
   "metadata": {},
   "outputs": [],
   "source": [
    "import pandas as pd"
   ]
  },
  {
   "cell_type": "code",
   "execution_count": 9,
   "id": "535c54c1",
   "metadata": {},
   "outputs": [
    {
     "data": {
      "text/plain": [
       "{'apple': [1, 2, 0, 5], 'orange': [2, 3, 5, 4], 'banana': [0, 4, 7, 12]}"
      ]
     },
     "execution_count": 9,
     "metadata": {},
     "output_type": "execute_result"
    }
   ],
   "source": [
    "data = {'apple':[1,2,0,5],'orange':[2,3,5,4],'banana':[0,4,7,12]}\n",
    "data"
   ]
  },
  {
   "cell_type": "code",
   "execution_count": 10,
   "id": "6168736d",
   "metadata": {},
   "outputs": [
    {
     "data": {
      "text/html": [
       "<div>\n",
       "<style scoped>\n",
       "    .dataframe tbody tr th:only-of-type {\n",
       "        vertical-align: middle;\n",
       "    }\n",
       "\n",
       "    .dataframe tbody tr th {\n",
       "        vertical-align: top;\n",
       "    }\n",
       "\n",
       "    .dataframe thead th {\n",
       "        text-align: right;\n",
       "    }\n",
       "</style>\n",
       "<table border=\"1\" class=\"dataframe\">\n",
       "  <thead>\n",
       "    <tr style=\"text-align: right;\">\n",
       "      <th></th>\n",
       "      <th>apple</th>\n",
       "      <th>orange</th>\n",
       "      <th>banana</th>\n",
       "    </tr>\n",
       "  </thead>\n",
       "  <tbody>\n",
       "    <tr>\n",
       "      <th>0</th>\n",
       "      <td>1</td>\n",
       "      <td>2</td>\n",
       "      <td>0</td>\n",
       "    </tr>\n",
       "    <tr>\n",
       "      <th>1</th>\n",
       "      <td>2</td>\n",
       "      <td>3</td>\n",
       "      <td>4</td>\n",
       "    </tr>\n",
       "    <tr>\n",
       "      <th>2</th>\n",
       "      <td>0</td>\n",
       "      <td>5</td>\n",
       "      <td>7</td>\n",
       "    </tr>\n",
       "    <tr>\n",
       "      <th>3</th>\n",
       "      <td>5</td>\n",
       "      <td>4</td>\n",
       "      <td>12</td>\n",
       "    </tr>\n",
       "  </tbody>\n",
       "</table>\n",
       "</div>"
      ],
      "text/plain": [
       "   apple  orange  banana\n",
       "0      1       2       0\n",
       "1      2       3       4\n",
       "2      0       5       7\n",
       "3      5       4      12"
      ]
     },
     "execution_count": 10,
     "metadata": {},
     "output_type": "execute_result"
    }
   ],
   "source": [
    "df = pd.DataFrame(data)\n",
    "df"
   ]
  },
  {
   "cell_type": "code",
   "execution_count": 13,
   "id": "a21798b8",
   "metadata": {},
   "outputs": [
    {
     "data": {
      "text/html": [
       "<div>\n",
       "<style scoped>\n",
       "    .dataframe tbody tr th:only-of-type {\n",
       "        vertical-align: middle;\n",
       "    }\n",
       "\n",
       "    .dataframe tbody tr th {\n",
       "        vertical-align: top;\n",
       "    }\n",
       "\n",
       "    .dataframe thead th {\n",
       "        text-align: right;\n",
       "    }\n",
       "</style>\n",
       "<table border=\"1\" class=\"dataframe\">\n",
       "  <thead>\n",
       "    <tr style=\"text-align: right;\">\n",
       "      <th></th>\n",
       "      <th>apple</th>\n",
       "      <th>orange</th>\n",
       "      <th>banana</th>\n",
       "    </tr>\n",
       "  </thead>\n",
       "  <tbody>\n",
       "    <tr>\n",
       "      <th>0</th>\n",
       "      <td>1</td>\n",
       "      <td>2</td>\n",
       "      <td>0</td>\n",
       "    </tr>\n",
       "    <tr>\n",
       "      <th>1</th>\n",
       "      <td>2</td>\n",
       "      <td>3</td>\n",
       "      <td>4</td>\n",
       "    </tr>\n",
       "  </tbody>\n",
       "</table>\n",
       "</div>"
      ],
      "text/plain": [
       "   apple  orange  banana\n",
       "0      1       2       0\n",
       "1      2       3       4"
      ]
     },
     "execution_count": 13,
     "metadata": {},
     "output_type": "execute_result"
    }
   ],
   "source": [
    "df.head(2)"
   ]
  },
  {
   "cell_type": "code",
   "execution_count": 14,
   "id": "69e90d0e",
   "metadata": {},
   "outputs": [
    {
     "data": {
      "text/html": [
       "<div>\n",
       "<style scoped>\n",
       "    .dataframe tbody tr th:only-of-type {\n",
       "        vertical-align: middle;\n",
       "    }\n",
       "\n",
       "    .dataframe tbody tr th {\n",
       "        vertical-align: top;\n",
       "    }\n",
       "\n",
       "    .dataframe thead th {\n",
       "        text-align: right;\n",
       "    }\n",
       "</style>\n",
       "<table border=\"1\" class=\"dataframe\">\n",
       "  <thead>\n",
       "    <tr style=\"text-align: right;\">\n",
       "      <th></th>\n",
       "      <th>apple</th>\n",
       "      <th>orange</th>\n",
       "      <th>banana</th>\n",
       "    </tr>\n",
       "  </thead>\n",
       "  <tbody>\n",
       "    <tr>\n",
       "      <th>2</th>\n",
       "      <td>0</td>\n",
       "      <td>5</td>\n",
       "      <td>7</td>\n",
       "    </tr>\n",
       "    <tr>\n",
       "      <th>3</th>\n",
       "      <td>5</td>\n",
       "      <td>4</td>\n",
       "      <td>12</td>\n",
       "    </tr>\n",
       "  </tbody>\n",
       "</table>\n",
       "</div>"
      ],
      "text/plain": [
       "   apple  orange  banana\n",
       "2      0       5       7\n",
       "3      5       4      12"
      ]
     },
     "execution_count": 14,
     "metadata": {},
     "output_type": "execute_result"
    }
   ],
   "source": [
    "df.tail(2)"
   ]
  },
  {
   "cell_type": "code",
   "execution_count": 15,
   "id": "f3a952e0",
   "metadata": {},
   "outputs": [
    {
     "data": {
      "text/html": [
       "<div>\n",
       "<style scoped>\n",
       "    .dataframe tbody tr th:only-of-type {\n",
       "        vertical-align: middle;\n",
       "    }\n",
       "\n",
       "    .dataframe tbody tr th {\n",
       "        vertical-align: top;\n",
       "    }\n",
       "\n",
       "    .dataframe thead th {\n",
       "        text-align: right;\n",
       "    }\n",
       "</style>\n",
       "<table border=\"1\" class=\"dataframe\">\n",
       "  <thead>\n",
       "    <tr style=\"text-align: right;\">\n",
       "      <th></th>\n",
       "      <th>apple</th>\n",
       "      <th>orange</th>\n",
       "      <th>banana</th>\n",
       "    </tr>\n",
       "  </thead>\n",
       "  <tbody>\n",
       "    <tr>\n",
       "      <th>A</th>\n",
       "      <td>1</td>\n",
       "      <td>2</td>\n",
       "      <td>0</td>\n",
       "    </tr>\n",
       "    <tr>\n",
       "      <th>B</th>\n",
       "      <td>2</td>\n",
       "      <td>3</td>\n",
       "      <td>4</td>\n",
       "    </tr>\n",
       "    <tr>\n",
       "      <th>C</th>\n",
       "      <td>0</td>\n",
       "      <td>5</td>\n",
       "      <td>7</td>\n",
       "    </tr>\n",
       "    <tr>\n",
       "      <th>D</th>\n",
       "      <td>5</td>\n",
       "      <td>4</td>\n",
       "      <td>12</td>\n",
       "    </tr>\n",
       "  </tbody>\n",
       "</table>\n",
       "</div>"
      ],
      "text/plain": [
       "   apple  orange  banana\n",
       "A      1       2       0\n",
       "B      2       3       4\n",
       "C      0       5       7\n",
       "D      5       4      12"
      ]
     },
     "execution_count": 15,
     "metadata": {},
     "output_type": "execute_result"
    }
   ],
   "source": [
    "df = pd.DataFrame(data, index = ['A','B','C','D'])\n",
    "df"
   ]
  },
  {
   "cell_type": "code",
   "execution_count": 20,
   "id": "87376deb",
   "metadata": {},
   "outputs": [
    {
     "data": {
      "text/html": [
       "<div>\n",
       "<style scoped>\n",
       "    .dataframe tbody tr th:only-of-type {\n",
       "        vertical-align: middle;\n",
       "    }\n",
       "\n",
       "    .dataframe tbody tr th {\n",
       "        vertical-align: top;\n",
       "    }\n",
       "\n",
       "    .dataframe thead th {\n",
       "        text-align: right;\n",
       "    }\n",
       "</style>\n",
       "<table border=\"1\" class=\"dataframe\">\n",
       "  <thead>\n",
       "    <tr style=\"text-align: right;\">\n",
       "      <th></th>\n",
       "      <th>MSN</th>\n",
       "      <th>YYYYMM</th>\n",
       "      <th>Value</th>\n",
       "      <th>Column_Order</th>\n",
       "      <th>Description</th>\n",
       "      <th>Unit</th>\n",
       "    </tr>\n",
       "  </thead>\n",
       "  <tbody>\n",
       "    <tr>\n",
       "      <th>0</th>\n",
       "      <td>CLETPUS</td>\n",
       "      <td>194913</td>\n",
       "      <td>135451.32</td>\n",
       "      <td>1</td>\n",
       "      <td>Electricity Net Generation From Coal, All Sectors</td>\n",
       "      <td>Million Kilowatthours</td>\n",
       "    </tr>\n",
       "    <tr>\n",
       "      <th>1</th>\n",
       "      <td>CLETPUS</td>\n",
       "      <td>195013</td>\n",
       "      <td>154519.994</td>\n",
       "      <td>1</td>\n",
       "      <td>Electricity Net Generation From Coal, All Sectors</td>\n",
       "      <td>Million Kilowatthours</td>\n",
       "    </tr>\n",
       "    <tr>\n",
       "      <th>2</th>\n",
       "      <td>CLETPUS</td>\n",
       "      <td>195113</td>\n",
       "      <td>185203.657</td>\n",
       "      <td>1</td>\n",
       "      <td>Electricity Net Generation From Coal, All Sectors</td>\n",
       "      <td>Million Kilowatthours</td>\n",
       "    </tr>\n",
       "    <tr>\n",
       "      <th>3</th>\n",
       "      <td>CLETPUS</td>\n",
       "      <td>195213</td>\n",
       "      <td>195436.666</td>\n",
       "      <td>1</td>\n",
       "      <td>Electricity Net Generation From Coal, All Sectors</td>\n",
       "      <td>Million Kilowatthours</td>\n",
       "    </tr>\n",
       "    <tr>\n",
       "      <th>4</th>\n",
       "      <td>CLETPUS</td>\n",
       "      <td>195313</td>\n",
       "      <td>218846.325</td>\n",
       "      <td>1</td>\n",
       "      <td>Electricity Net Generation From Coal, All Sectors</td>\n",
       "      <td>Million Kilowatthours</td>\n",
       "    </tr>\n",
       "    <tr>\n",
       "      <th>...</th>\n",
       "      <td>...</td>\n",
       "      <td>...</td>\n",
       "      <td>...</td>\n",
       "      <td>...</td>\n",
       "      <td>...</td>\n",
       "      <td>...</td>\n",
       "    </tr>\n",
       "    <tr>\n",
       "      <th>8211</th>\n",
       "      <td>ELETPUS</td>\n",
       "      <td>201906</td>\n",
       "      <td>351342.905</td>\n",
       "      <td>13</td>\n",
       "      <td>Electricity Net Generation Total (including fr...</td>\n",
       "      <td>Million Kilowatthours</td>\n",
       "    </tr>\n",
       "    <tr>\n",
       "      <th>8212</th>\n",
       "      <td>ELETPUS</td>\n",
       "      <td>201907</td>\n",
       "      <td>411583.828</td>\n",
       "      <td>13</td>\n",
       "      <td>Electricity Net Generation Total (including fr...</td>\n",
       "      <td>Million Kilowatthours</td>\n",
       "    </tr>\n",
       "    <tr>\n",
       "      <th>8213</th>\n",
       "      <td>ELETPUS</td>\n",
       "      <td>201908</td>\n",
       "      <td>401363.186</td>\n",
       "      <td>13</td>\n",
       "      <td>Electricity Net Generation Total (including fr...</td>\n",
       "      <td>Million Kilowatthours</td>\n",
       "    </tr>\n",
       "    <tr>\n",
       "      <th>8214</th>\n",
       "      <td>ELETPUS</td>\n",
       "      <td>201909</td>\n",
       "      <td>359300.603</td>\n",
       "      <td>13</td>\n",
       "      <td>Electricity Net Generation Total (including fr...</td>\n",
       "      <td>Million Kilowatthours</td>\n",
       "    </tr>\n",
       "    <tr>\n",
       "      <th>8215</th>\n",
       "      <td>ELETPUS</td>\n",
       "      <td>201910</td>\n",
       "      <td>321921.812</td>\n",
       "      <td>13</td>\n",
       "      <td>Electricity Net Generation Total (including fr...</td>\n",
       "      <td>Million Kilowatthours</td>\n",
       "    </tr>\n",
       "  </tbody>\n",
       "</table>\n",
       "<p>8216 rows × 6 columns</p>\n",
       "</div>"
      ],
      "text/plain": [
       "          MSN  YYYYMM       Value  Column_Order  \\\n",
       "0     CLETPUS  194913   135451.32             1   \n",
       "1     CLETPUS  195013  154519.994             1   \n",
       "2     CLETPUS  195113  185203.657             1   \n",
       "3     CLETPUS  195213  195436.666             1   \n",
       "4     CLETPUS  195313  218846.325             1   \n",
       "...       ...     ...         ...           ...   \n",
       "8211  ELETPUS  201906  351342.905            13   \n",
       "8212  ELETPUS  201907  411583.828            13   \n",
       "8213  ELETPUS  201908  401363.186            13   \n",
       "8214  ELETPUS  201909  359300.603            13   \n",
       "8215  ELETPUS  201910  321921.812            13   \n",
       "\n",
       "                                            Description                   Unit  \n",
       "0     Electricity Net Generation From Coal, All Sectors  Million Kilowatthours  \n",
       "1     Electricity Net Generation From Coal, All Sectors  Million Kilowatthours  \n",
       "2     Electricity Net Generation From Coal, All Sectors  Million Kilowatthours  \n",
       "3     Electricity Net Generation From Coal, All Sectors  Million Kilowatthours  \n",
       "4     Electricity Net Generation From Coal, All Sectors  Million Kilowatthours  \n",
       "...                                                 ...                    ...  \n",
       "8211  Electricity Net Generation Total (including fr...  Million Kilowatthours  \n",
       "8212  Electricity Net Generation Total (including fr...  Million Kilowatthours  \n",
       "8213  Electricity Net Generation Total (including fr...  Million Kilowatthours  \n",
       "8214  Electricity Net Generation Total (including fr...  Million Kilowatthours  \n",
       "8215  Electricity Net Generation Total (including fr...  Million Kilowatthours  \n",
       "\n",
       "[8216 rows x 6 columns]"
      ]
     },
     "execution_count": 20,
     "metadata": {},
     "output_type": "execute_result"
    }
   ],
   "source": [
    "df1 = pd.read_csv(r\"C:\\Users\\HP\\Desktop\\Data-LB\\New folder\\MER_T07_02A-2020-02-03.csv\")\n",
    "df1"
   ]
  },
  {
   "cell_type": "code",
   "execution_count": 21,
   "id": "bbdc2541",
   "metadata": {},
   "outputs": [
    {
     "data": {
      "text/plain": [
       "0    12\n",
       "1    45\n",
       "2    25\n",
       "3    36\n",
       "4    45\n",
       "dtype: int64"
      ]
     },
     "execution_count": 21,
     "metadata": {},
     "output_type": "execute_result"
    }
   ],
   "source": [
    "a = [12,45,25,36,45]\n",
    "s = pd.Series(a)\n",
    "s"
   ]
  },
  {
   "cell_type": "code",
   "execution_count": 22,
   "id": "7a5664a7",
   "metadata": {},
   "outputs": [],
   "source": [
    "s = pd.Series(data)"
   ]
  },
  {
   "cell_type": "code",
   "execution_count": 23,
   "id": "70bbd242",
   "metadata": {},
   "outputs": [
    {
     "data": {
      "text/plain": [
       "apple      [1, 2, 0, 5]\n",
       "orange     [2, 3, 5, 4]\n",
       "banana    [0, 4, 7, 12]\n",
       "dtype: object"
      ]
     },
     "execution_count": 23,
     "metadata": {},
     "output_type": "execute_result"
    }
   ],
   "source": [
    "s"
   ]
  },
  {
   "cell_type": "code",
   "execution_count": 24,
   "id": "fa7518e6",
   "metadata": {},
   "outputs": [
    {
     "data": {
      "text/plain": [
       "pandas.core.series.Series"
      ]
     },
     "execution_count": 24,
     "metadata": {},
     "output_type": "execute_result"
    }
   ],
   "source": [
    "type(s)"
   ]
  },
  {
   "cell_type": "code",
   "execution_count": 25,
   "id": "a94e98cc",
   "metadata": {},
   "outputs": [
    {
     "data": {
      "text/plain": [
       "pandas.core.frame.DataFrame"
      ]
     },
     "execution_count": 25,
     "metadata": {},
     "output_type": "execute_result"
    }
   ],
   "source": [
    "type(df)"
   ]
  },
  {
   "cell_type": "code",
   "execution_count": null,
   "id": "5fe9003e",
   "metadata": {},
   "outputs": [],
   "source": []
  }
 ],
 "metadata": {
  "kernelspec": {
   "display_name": "Python 3 (ipykernel)",
   "language": "python",
   "name": "python3"
  },
  "language_info": {
   "codemirror_mode": {
    "name": "ipython",
    "version": 3
   },
   "file_extension": ".py",
   "mimetype": "text/x-python",
   "name": "python",
   "nbconvert_exporter": "python",
   "pygments_lexer": "ipython3",
   "version": "3.9.12"
  }
 },
 "nbformat": 4,
 "nbformat_minor": 5
}
