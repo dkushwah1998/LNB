{
 "cells": [
  {
   "cell_type": "code",
   "execution_count": 50,
   "id": "59b44a7a",
   "metadata": {},
   "outputs": [],
   "source": [
    "import numpy as np\n",
    "import pandas as pd\n",
    "import matplotlib.pyplot as plt"
   ]
  },
  {
   "cell_type": "code",
   "execution_count": 51,
   "id": "4fdb9bce",
   "metadata": {},
   "outputs": [],
   "source": [
    "np.random.seed(0)\n",
    "x = 2-3*np.random.normal(0,1,20)\n",
    "y = x - 2*(x**3) + 0.5*(x**3)\n"
   ]
  },
  {
   "cell_type": "code",
   "execution_count": 52,
   "id": "a8aa6b92",
   "metadata": {},
   "outputs": [
    {
     "data": {
      "image/png": "[encoded data removed]",
      "text/plain": [
       "<Figure size 640x480 with 1 Axes>"
      ]
     },
     "metadata": {},
     "output_type": "display_data"
    }
   ],
   "source": [
    "plt.scatter(x,y,s=10)\n",
    "plt.show()"
   ]
  },
  {
   "cell_type": "code",
   "execution_count": 53,
   "id": "c78231f5",
   "metadata": {},
   "outputs": [],
   "source": [
    "from sklearn.linear_model import LinearRegression"
   ]
  },
  {
   "cell_type": "code",
   "execution_count": 54,
   "id": "ae8ec643",
   "metadata": {},
   "outputs": [],
   "source": [
    "x = x[:,np.newaxis]\n",
    "y = y[:,np.newaxis]"
   ]
  },
  {
   "cell_type": "code",
   "execution_count": 55,
   "id": "baab7280",
   "metadata": {},
   "outputs": [],
   "source": [
    "reg = LinearRegression()"
   ]
  },
  {
   "cell_type": "code",
   "execution_count": 56,
   "id": "19757049",
   "metadata": {},
   "outputs": [
    {
     "data": {
      "text/plain": [
       "LinearRegression()"
      ]
     },
     "execution_count": 56,
     "metadata": {},
     "output_type": "execute_result"
    }
   ],
   "source": [
    "reg.fit(x,y)"
   ]
  },
  {
   "cell_type": "code",
   "execution_count": 57,
   "id": "37fea37d",
   "metadata": {},
   "outputs": [],
   "source": [
    "y_pred = reg.predict(x)"
   ]
  },
  {
   "cell_type": "code",
   "execution_count": 58,
   "id": "26fde7b8",
   "metadata": {},
   "outputs": [
    {
     "data": {
      "text/plain": [
       "array([[  74.93392954],\n",
       "       [ -14.89005728],\n",
       "       [  23.21436185],\n",
       "       [ 106.33791753],\n",
       "       [  81.75064834],\n",
       "       [-105.60576394],\n",
       "       [  21.32754649],\n",
       "       [ -51.21192861],\n",
       "       [ -48.04161223],\n",
       "       [ -14.20241013],\n",
       "       [ -31.75729828],\n",
       "       [  54.53238283],\n",
       "       [   8.87696548],\n",
       "       [ -33.23045608],\n",
       "       [ -12.01164732],\n",
       "       [ -19.26851517],\n",
       "       [  57.15391476],\n",
       "       [ -54.75518144],\n",
       "       [ -20.62563511],\n",
       "       [ -97.49318207]])"
      ]
     },
     "execution_count": 58,
     "metadata": {},
     "output_type": "execute_result"
    }
   ],
   "source": [
    "y_pred"
   ]
  },
  {
   "cell_type": "code",
   "execution_count": 59,
   "id": "f4790021",
   "metadata": {},
   "outputs": [
    {
     "data": {
      "image/png": "[encoded data removed]",
      "text/plain": [
       "<Figure size 640x480 with 1 Axes>"
      ]
     },
     "metadata": {},
     "output_type": "display_data"
    }
   ],
   "source": [
    "plt.scatter(x,y,s=10)\n",
    "plt.plot(x,y_pred,color='r')\n",
    "plt.show()"
   ]
  },
  {
   "cell_type": "markdown",
   "id": "033643f0",
   "metadata": {},
   "source": [
    "under fitted model"
   ]
  },
  {
   "cell_type": "code",
   "execution_count": 60,
   "id": "a7d71a5b",
   "metadata": {},
   "outputs": [],
   "source": [
    "from sklearn.metrics import accuracy_score"
   ]
  },
  {
   "cell_type": "code",
   "execution_count": 61,
   "id": "360ec163",
   "metadata": {},
   "outputs": [
    {
     "name": "stdout",
     "output_type": "stream",
     "text": [
      "R-2 value is: 76.65\n"
     ]
    }
   ],
   "source": [
    "print(\"R-2 value is: {:,.2f}\".format(reg.score(x,y)*100))"
   ]
  },
  {
   "cell_type": "code",
   "execution_count": 62,
   "id": "fbde1f93",
   "metadata": {},
   "outputs": [],
   "source": [
    "#polynomial regression"
   ]
  },
  {
   "cell_type": "code",
   "execution_count": 63,
   "id": "44c8569e",
   "metadata": {},
   "outputs": [],
   "source": [
    "from sklearn.preprocessing import PolynomialFeatures"
   ]
  },
  {
   "cell_type": "code",
   "execution_count": 64,
   "id": "26ca0c4f",
   "metadata": {},
   "outputs": [],
   "source": [
    "poly_feat = PolynomialFeatures(degree = 2)"
   ]
  },
  {
   "cell_type": "code",
   "execution_count": 65,
   "id": "0ee9b8fd",
   "metadata": {},
   "outputs": [],
   "source": [
    "x_poly = poly_feat.fit_transform(x)"
   ]
  },
  {
   "cell_type": "code",
   "execution_count": 66,
   "id": "e619a72e",
   "metadata": {},
   "outputs": [
    {
     "data": {
      "text/plain": [
       "array([[ 1.        , -3.29215704, 10.83829796],\n",
       "       [ 1.        ,  0.79952837,  0.63924562],\n",
       "       [ 1.        , -0.93621395,  0.87649656],\n",
       "       [ 1.        , -4.7226796 , 22.30370258],\n",
       "       [ 1.        , -3.60267397, 12.97925974],\n",
       "       [ 1.        ,  4.93183364, 24.32298305],\n",
       "       [ 1.        , -0.85026525,  0.722951  ],\n",
       "       [ 1.        ,  2.45407162,  6.02246754],\n",
       "       [ 1.        ,  2.30965656,  5.3345134 ],\n",
       "       [ 1.        ,  0.76820449,  0.59013814],\n",
       "       [ 1.        ,  1.56786929,  2.4582141 ],\n",
       "       [ 1.        , -2.36282052,  5.58292081],\n",
       "       [ 1.        , -0.28311318,  0.08015307],\n",
       "       [ 1.        ,  1.63497495,  2.67314309],\n",
       "       [ 1.        ,  0.6684103 ,  0.44677233],\n",
       "       [ 1.        ,  0.99897702,  0.99795508],\n",
       "       [ 1.        , -2.48223722,  6.16150161],\n",
       "       [ 1.        ,  2.61547479,  6.84070838],\n",
       "       [ 1.        ,  1.0607969 ,  1.12529005],\n",
       "       [ 1.        ,  4.56228722, 20.81446466]])"
      ]
     },
     "execution_count": 66,
     "metadata": {},
     "output_type": "execute_result"
    }
   ],
   "source": [
    "x_poly"
   ]
  },
  {
   "cell_type": "code",
   "execution_count": 67,
   "id": "fd7d63af",
   "metadata": {},
   "outputs": [
    {
     "data": {
      "text/plain": [
       "LinearRegression()"
      ]
     },
     "execution_count": 67,
     "metadata": {},
     "output_type": "execute_result"
    }
   ],
   "source": [
    "reg.fit(x_poly,y)"
   ]
  },
  {
   "cell_type": "code",
   "execution_count": 68,
   "id": "cf1ba9d8",
   "metadata": {},
   "outputs": [],
   "source": [
    "y_poly_pred = reg.predict(x_poly)"
   ]
  },
  {
   "cell_type": "code",
   "execution_count": 69,
   "id": "531b44fb",
   "metadata": {},
   "outputs": [
    {
     "data": {
      "text/plain": [
       "array([[  68.19101021],\n",
       "       [  -6.21320207],\n",
       "       [  31.25255349],\n",
       "       [  82.80148315],\n",
       "       [  71.8644317 ],\n",
       "       [-130.40928896],\n",
       "       [  29.6020363 ],\n",
       "       [ -50.02296808],\n",
       "       [ -45.8842901 ],\n",
       "       [  -5.46001774],\n",
       "       [ -25.57485778],\n",
       "       [  55.53377322],\n",
       "       [  18.1760691 ],\n",
       "       [ -27.34679649],\n",
       "       [  -3.07934815],\n",
       "       [ -11.07539161],\n",
       "       [  57.29979131],\n",
       "       [ -54.71974181],\n",
       "       [ -12.60575956],\n",
       "       [-117.29550695]])"
      ]
     },
     "execution_count": 69,
     "metadata": {},
     "output_type": "execute_result"
    }
   ],
   "source": [
    "y_poly_pred"
   ]
  },
  {
   "cell_type": "code",
   "execution_count": 70,
   "id": "cddc4fbf",
   "metadata": {},
   "outputs": [
    {
     "name": "stdout",
     "output_type": "stream",
     "text": [
      "R-2 value is: 79.54\n"
     ]
    }
   ],
   "source": [
    "print(\"R-2 value is: {:,.2f}\".format(reg.score(x_poly,y)*100))"
   ]
  },
  {
   "cell_type": "code",
   "execution_count": 71,
   "id": "4c962ee0",
   "metadata": {},
   "outputs": [],
   "source": [
    "from sklearn.metrics import mean_absolute_error,mean_squared_error,r2_score"
   ]
  },
  {
   "cell_type": "code",
   "execution_count": 72,
   "id": "88dd0953",
   "metadata": {},
   "outputs": [],
   "source": [
    "rsme = np.sqrt(mean_squared_error(y,y_poly_pred))"
   ]
  },
  {
   "cell_type": "code",
   "execution_count": 73,
   "id": "16473f40",
   "metadata": {},
   "outputs": [
    {
     "data": {
      "text/plain": [
       "28.925784940284366"
      ]
     },
     "execution_count": 73,
     "metadata": {},
     "output_type": "execute_result"
    }
   ],
   "source": [
    "rsme"
   ]
  },
  {
   "cell_type": "code",
   "execution_count": 74,
   "id": "d91bc2ce",
   "metadata": {},
   "outputs": [],
   "source": [
    "r2 = r2_score(y,y_poly_pred)"
   ]
  },
  {
   "cell_type": "code",
   "execution_count": 75,
   "id": "1f1d42d2",
   "metadata": {},
   "outputs": [
    {
     "data": {
      "text/plain": [
       "0.7954335769091483"
      ]
     },
     "execution_count": 75,
     "metadata": {},
     "output_type": "execute_result"
    }
   ],
   "source": [
    "r2"
   ]
  },
  {
   "cell_type": "code",
   "execution_count": 76,
   "id": "4660194d",
   "metadata": {},
   "outputs": [],
   "source": [
    "import operator"
   ]
  },
  {
   "cell_type": "code",
   "execution_count": 77,
   "id": "cd5e3d32",
   "metadata": {},
   "outputs": [
    {
     "data": {
      "image/png": "[encoded data removed]",
      "text/plain": [
       "<Figure size 640x480 with 1 Axes>"
      ]
     },
     "metadata": {},
     "output_type": "display_data"
    }
   ],
   "source": [
    "plt.scatter(x,y,s=10)\n",
    "sort_axis = operator.itemgetter(0)\n",
    "sort_zip = sorted(zip(x,y_poly_pred),key = sort_axis)\n",
    "x,y_poly_pred = zip(*sort_zip)\n",
    "plt.plot(x,y_poly_pred,color='m')\n",
    "plt.show()"
   ]
  },
  {
   "cell_type": "code",
   "execution_count": 78,
   "id": "632f51e5",
   "metadata": {},
   "outputs": [],
   "source": [
    "#degree 3 "
   ]
  },
  {
   "cell_type": "code",
   "execution_count": 79,
   "id": "1d7ab7aa",
   "metadata": {},
   "outputs": [],
   "source": [
    "poly_feat = PolynomialFeatures(degree = 3)"
   ]
  },
  {
   "cell_type": "code",
   "execution_count": 80,
   "id": "ae7cabdd",
   "metadata": {},
   "outputs": [],
   "source": [
    "x_poly = poly_feat.fit_transform(x)"
   ]
  },
  {
   "cell_type": "code",
   "execution_count": 81,
   "id": "9653f1b5",
   "metadata": {},
   "outputs": [
    {
     "data": {
      "text/plain": [
       "LinearRegression()"
      ]
     },
     "execution_count": 81,
     "metadata": {},
     "output_type": "execute_result"
    }
   ],
   "source": [
    "reg.fit(x_poly,y)"
   ]
  },
  {
   "cell_type": "code",
   "execution_count": 82,
   "id": "80432761",
   "metadata": {},
   "outputs": [],
   "source": [
    "y_poly_pred = reg.predict(x_poly)\n"
   ]
  },
  {
   "cell_type": "code",
   "execution_count": 83,
   "id": "749ed172",
   "metadata": {},
   "outputs": [],
   "source": [
    "r2 = r2_score(y,y_poly_pred)"
   ]
  },
  {
   "cell_type": "code",
   "execution_count": 84,
   "id": "6c9b20d6",
   "metadata": {},
   "outputs": [
    {
     "data": {
      "text/plain": [
       "0.1955920357049724"
      ]
     },
     "execution_count": 84,
     "metadata": {},
     "output_type": "execute_result"
    }
   ],
   "source": [
    "r2"
   ]
  },
  {
   "cell_type": "code",
   "execution_count": 85,
   "id": "52964771",
   "metadata": {},
   "outputs": [
    {
     "data": {
      "image/png": "[encoded data removed]",
      "text/plain": [
       "<Figure size 640x480 with 1 Axes>"
      ]
     },
     "metadata": {},
     "output_type": "display_data"
    }
   ],
   "source": [
    "plt.scatter(x,y,s=10)\n",
    "sort_axis = operator.itemgetter(0)\n",
    "sort_zip = sorted(zip(x,y_poly_pred),key = sort_axis)\n",
    "x,y_poly_pred = zip(*sort_zip)\n",
    "plt.plot(x,y_poly_pred,color='m')\n",
    "plt.show()"
   ]
  },
  {
   "cell_type": "code",
   "execution_count": null,
   "id": "0f74ebc0",
   "metadata": {},
   "outputs": [],
   "source": []
  },
  {
   "cell_type": "code",
   "execution_count": null,
   "id": "f58b69fd",
   "metadata": {},
   "outputs": [],
   "source": []
  }
 ],
 "metadata": {
  "kernelspec": {
   "display_name": "Python 3 (ipykernel)",
   "language": "python",
   "name": "python3"
  },
  "language_info": {
   "codemirror_mode": {
    "name": "ipython",
    "version": 3
   },
   "file_extension": ".py",
   "mimetype": "text/x-python",
   "name": "python",
   "nbconvert_exporter": "python",
   "pygments_lexer": "ipython3",
   "version": "3.9.13"
  }
 },
 "nbformat": 4,
 "nbformat_minor": 5
}
